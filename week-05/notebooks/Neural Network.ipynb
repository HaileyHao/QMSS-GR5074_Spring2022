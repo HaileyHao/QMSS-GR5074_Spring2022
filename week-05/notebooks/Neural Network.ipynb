{
 "cells": [
  {
   "cell_type": "markdown",
   "id": "5add5c59",
   "metadata": {},
   "source": [
    "# Neural Network\n",
    "\n",
    "## 1. Multilayer Perceptron\n",
    "\n",
    "## 2. Convolutional Network\n",
    "### Types of layer sin a convolutional network\n",
    "1. Convolution layer (CONV)\n",
    "2. Pooling layer (POOL)\n",
    "3. Fully connected layer (FC) -- with a filter of size 1 -- linear transformation\n",
    "\n",
    "\n",
    "### 1. Convolution layer\n",
    "- **Convolution**: original pixel * the filter/kernel -- it's losing information, but extracting patterns\n",
    "- the multiplication(*) process is called \"convolution\" \n",
    "\n",
    "#### e.g., Vertical edge detection\n",
    "- original pixel * the filter/kernel (verticle edge detector: verticle values, 3 columns -- 111, 000, -1-1-1 each stands for clear/neutral/darker)\n",
    "- the multiplication(*) process is called \"convolution\" \n",
    "\n",
    "#### Different ways of convolution\n",
    "##### 1. Padding \n",
    "\"growing it out\" -- output matrix larger     \n",
    "To prevent the matrix from becoming smaller and smaller and in the end too small...    \n",
    "Padding add 0s to the margins, so the output matrix would be bigger     \n",
    "- \"Valid\" means no padding; \"Same\" means Pad with the sizethat output size = input size    \n",
    "\n",
    "##### 2. Strided convolution\n",
    "\"shrinking it out\" -- output matrix smaller    \n",
    "Skips over some columns/rows    \n",
    "> calculate the size of the output matrix: *n×n* image, *f×f* filter, padding *p*, stride *s* -- [(n+2p - f)/s +1] × [(n+2p - f)/s +1] (it has to be an integer)    \n",
    "\n",
    "\n",
    "### 2. Pooling layer\n",
    "- **Pooling**: keep only the max/average value in each f×f filter\n",
    "\n",
    "#### Different ways of Pooling\n",
    "##### 1. Max pooling\n",
    "##### 2. Average pooing\n",
    "\n",
    "\n",
    "### 3. Possible Tuning parameters\n",
    "\n",
    "#### Convolution layer\n",
    "1. filter size (f * f)\n",
    "2. number of filters (e.g., 2 filters, vertical and horizontal)\n",
    "3. coeffcients (numbers in the filter)\n",
    "4. bias\n",
    "5. padding (p)\n",
    "6. strides (s)\n",
    "\n",
    "#### Pooling layer\n",
    "1. filter size (f * f) *-- here the filter is no kernel*\n",
    "2. stride size\n",
    "\n",
    "(sometimes Convolution layer and Pooling layer are combined as one layer, cuz a layer is when learning happens and pooing does not learn, so it's included in the last learning process -- Convolution layer :)"
   ]
  }
 ],
 "metadata": {
  "kernelspec": {
   "display_name": "Python 3 (ipykernel)",
   "language": "python",
   "name": "python3"
  },
  "language_info": {
   "codemirror_mode": {
    "name": "ipython",
    "version": 3
   },
   "file_extension": ".py",
   "mimetype": "text/x-python",
   "name": "python",
   "nbconvert_exporter": "python",
   "pygments_lexer": "ipython3",
   "version": "3.9.7"
  }
 },
 "nbformat": 4,
 "nbformat_minor": 5
}
