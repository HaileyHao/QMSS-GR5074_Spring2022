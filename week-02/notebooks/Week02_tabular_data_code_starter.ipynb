{
  "cells": [
    {
      "cell_type": "markdown",
      "metadata": {
        "id": "gYNp684Tk3tb"
      },
      "source": [
        "<p align=\"center\"><h1 align=\"center\">GR5074 </br> Projects in Advanced Machine Learning </br>Spring 2022 </h1>\n",
        "\n",
        "---\n",
        "</br>\n",
        "\n",
        "This notebook contains starter code for our class workshop where we'll\n",
        "\n",
        "1. learn how to create a data preprocessing module suitable for a ML pipeline (in our case, leveraging the `scikit-learn` library) \n",
        "2. get you familiar with the **AI Model Share Initiative** API to  \n",
        "  * build all necessary elements to submit a model\n",
        "  * submit a model\n",
        "  * retrieve leaderboard information\n",
        "\n"
      ]
    },
    {
      "cell_type": "markdown",
      "metadata": {
        "id": "GyskXyNqmBgy"
      },
      "source": [
        "## **(1) Preprocessor Function & Setup**\n",
        "\n",
        "> ### A more advanced example demonstrating the flexibility of a new *Column Transformer* approach."
      ]
    },
    {
      "cell_type": "code",
      "execution_count": 1,
      "metadata": {
        "colab": {
          "base_uri": "https://localhost:8080/"
        },
        "id": "d7oxnMcx-rkE",
        "outputId": "eb3e50d8-f4b3-42ac-895b-e56516b51942"
      },
      "outputs": [
        {
          "output_type": "stream",
          "name": "stdout",
          "text": [
            "Requirement already satisfied: scikit-learn in /usr/local/lib/python3.7/dist-packages (1.0.2)\n",
            "Requirement already satisfied: numpy>=1.14.6 in /usr/local/lib/python3.7/dist-packages (from scikit-learn) (1.19.5)\n",
            "Requirement already satisfied: scipy>=1.1.0 in /usr/local/lib/python3.7/dist-packages (from scikit-learn) (1.4.1)\n",
            "Requirement already satisfied: threadpoolctl>=2.0.0 in /usr/local/lib/python3.7/dist-packages (from scikit-learn) (3.0.0)\n",
            "Requirement already satisfied: joblib>=0.11 in /usr/local/lib/python3.7/dist-packages (from scikit-learn) (1.1.0)\n",
            "TensorFlow 1.x selected.\n"
          ]
        }
      ],
      "source": [
        "# note that tabular preprocessors require scikit-learn>=0.24.0\n",
        "!pip install scikit-learn --upgrade \n",
        "\n",
        "% tensorflow_version 1.x"
      ]
    },
    {
      "cell_type": "code",
      "execution_count": 2,
      "metadata": {
        "colab": {
          "base_uri": "https://localhost:8080/",
          "height": 221
        },
        "id": "oemrLaHgs2OL",
        "outputId": "2ce5522e-aede-48fd-9fe0-d555844d8043"
      },
      "outputs": [
        {
          "output_type": "stream",
          "name": "stdout",
          "text": [
            "(1309, 14)\n"
          ]
        },
        {
          "output_type": "execute_result",
          "data": {
            "text/html": [
              "\n",
              "  <div id=\"df-e3fa0395-e822-42b8-ba5b-aafe05e5216e\">\n",
              "    <div class=\"colab-df-container\">\n",
              "      <div>\n",
              "<style scoped>\n",
              "    .dataframe tbody tr th:only-of-type {\n",
              "        vertical-align: middle;\n",
              "    }\n",
              "\n",
              "    .dataframe tbody tr th {\n",
              "        vertical-align: top;\n",
              "    }\n",
              "\n",
              "    .dataframe thead th {\n",
              "        text-align: right;\n",
              "    }\n",
              "</style>\n",
              "<table border=\"1\" class=\"dataframe\">\n",
              "  <thead>\n",
              "    <tr style=\"text-align: right;\">\n",
              "      <th></th>\n",
              "      <th>pclass</th>\n",
              "      <th>survived</th>\n",
              "      <th>name</th>\n",
              "      <th>sex</th>\n",
              "      <th>age</th>\n",
              "      <th>sibsp</th>\n",
              "      <th>parch</th>\n",
              "      <th>ticket</th>\n",
              "      <th>fare</th>\n",
              "      <th>cabin</th>\n",
              "      <th>embarked</th>\n",
              "      <th>boat</th>\n",
              "      <th>body</th>\n",
              "      <th>home.dest</th>\n",
              "    </tr>\n",
              "  </thead>\n",
              "  <tbody>\n",
              "    <tr>\n",
              "      <th>0</th>\n",
              "      <td>1</td>\n",
              "      <td>1</td>\n",
              "      <td>Allen, Miss. Elisabeth Walton</td>\n",
              "      <td>female</td>\n",
              "      <td>29.0000</td>\n",
              "      <td>0</td>\n",
              "      <td>0</td>\n",
              "      <td>24160</td>\n",
              "      <td>211.3375</td>\n",
              "      <td>B5</td>\n",
              "      <td>S</td>\n",
              "      <td>2</td>\n",
              "      <td>NaN</td>\n",
              "      <td>St Louis, MO</td>\n",
              "    </tr>\n",
              "    <tr>\n",
              "      <th>1</th>\n",
              "      <td>1</td>\n",
              "      <td>1</td>\n",
              "      <td>Allison, Master. Hudson Trevor</td>\n",
              "      <td>male</td>\n",
              "      <td>0.9167</td>\n",
              "      <td>1</td>\n",
              "      <td>2</td>\n",
              "      <td>113781</td>\n",
              "      <td>151.5500</td>\n",
              "      <td>C22 C26</td>\n",
              "      <td>S</td>\n",
              "      <td>11</td>\n",
              "      <td>NaN</td>\n",
              "      <td>Montreal, PQ / Chesterville, ON</td>\n",
              "    </tr>\n",
              "    <tr>\n",
              "      <th>2</th>\n",
              "      <td>1</td>\n",
              "      <td>0</td>\n",
              "      <td>Allison, Miss. Helen Loraine</td>\n",
              "      <td>female</td>\n",
              "      <td>2.0000</td>\n",
              "      <td>1</td>\n",
              "      <td>2</td>\n",
              "      <td>113781</td>\n",
              "      <td>151.5500</td>\n",
              "      <td>C22 C26</td>\n",
              "      <td>S</td>\n",
              "      <td>NaN</td>\n",
              "      <td>NaN</td>\n",
              "      <td>Montreal, PQ / Chesterville, ON</td>\n",
              "    </tr>\n",
              "    <tr>\n",
              "      <th>3</th>\n",
              "      <td>1</td>\n",
              "      <td>0</td>\n",
              "      <td>Allison, Mr. Hudson Joshua Creighton</td>\n",
              "      <td>male</td>\n",
              "      <td>30.0000</td>\n",
              "      <td>1</td>\n",
              "      <td>2</td>\n",
              "      <td>113781</td>\n",
              "      <td>151.5500</td>\n",
              "      <td>C22 C26</td>\n",
              "      <td>S</td>\n",
              "      <td>NaN</td>\n",
              "      <td>135.0</td>\n",
              "      <td>Montreal, PQ / Chesterville, ON</td>\n",
              "    </tr>\n",
              "    <tr>\n",
              "      <th>4</th>\n",
              "      <td>1</td>\n",
              "      <td>0</td>\n",
              "      <td>Allison, Mrs. Hudson J C (Bessie Waldo Daniels)</td>\n",
              "      <td>female</td>\n",
              "      <td>25.0000</td>\n",
              "      <td>1</td>\n",
              "      <td>2</td>\n",
              "      <td>113781</td>\n",
              "      <td>151.5500</td>\n",
              "      <td>C22 C26</td>\n",
              "      <td>S</td>\n",
              "      <td>NaN</td>\n",
              "      <td>NaN</td>\n",
              "      <td>Montreal, PQ / Chesterville, ON</td>\n",
              "    </tr>\n",
              "  </tbody>\n",
              "</table>\n",
              "</div>\n",
              "      <button class=\"colab-df-convert\" onclick=\"convertToInteractive('df-e3fa0395-e822-42b8-ba5b-aafe05e5216e')\"\n",
              "              title=\"Convert this dataframe to an interactive table.\"\n",
              "              style=\"display:none;\">\n",
              "        \n",
              "  <svg xmlns=\"http://www.w3.org/2000/svg\" height=\"24px\"viewBox=\"0 0 24 24\"\n",
              "       width=\"24px\">\n",
              "    <path d=\"M0 0h24v24H0V0z\" fill=\"none\"/>\n",
              "    <path d=\"M18.56 5.44l.94 2.06.94-2.06 2.06-.94-2.06-.94-.94-2.06-.94 2.06-2.06.94zm-11 1L8.5 8.5l.94-2.06 2.06-.94-2.06-.94L8.5 2.5l-.94 2.06-2.06.94zm10 10l.94 2.06.94-2.06 2.06-.94-2.06-.94-.94-2.06-.94 2.06-2.06.94z\"/><path d=\"M17.41 7.96l-1.37-1.37c-.4-.4-.92-.59-1.43-.59-.52 0-1.04.2-1.43.59L10.3 9.45l-7.72 7.72c-.78.78-.78 2.05 0 2.83L4 21.41c.39.39.9.59 1.41.59.51 0 1.02-.2 1.41-.59l7.78-7.78 2.81-2.81c.8-.78.8-2.07 0-2.86zM5.41 20L4 18.59l7.72-7.72 1.47 1.35L5.41 20z\"/>\n",
              "  </svg>\n",
              "      </button>\n",
              "      \n",
              "  <style>\n",
              "    .colab-df-container {\n",
              "      display:flex;\n",
              "      flex-wrap:wrap;\n",
              "      gap: 12px;\n",
              "    }\n",
              "\n",
              "    .colab-df-convert {\n",
              "      background-color: #E8F0FE;\n",
              "      border: none;\n",
              "      border-radius: 50%;\n",
              "      cursor: pointer;\n",
              "      display: none;\n",
              "      fill: #1967D2;\n",
              "      height: 32px;\n",
              "      padding: 0 0 0 0;\n",
              "      width: 32px;\n",
              "    }\n",
              "\n",
              "    .colab-df-convert:hover {\n",
              "      background-color: #E2EBFA;\n",
              "      box-shadow: 0px 1px 2px rgba(60, 64, 67, 0.3), 0px 1px 3px 1px rgba(60, 64, 67, 0.15);\n",
              "      fill: #174EA6;\n",
              "    }\n",
              "\n",
              "    [theme=dark] .colab-df-convert {\n",
              "      background-color: #3B4455;\n",
              "      fill: #D2E3FC;\n",
              "    }\n",
              "\n",
              "    [theme=dark] .colab-df-convert:hover {\n",
              "      background-color: #434B5C;\n",
              "      box-shadow: 0px 1px 3px 1px rgba(0, 0, 0, 0.15);\n",
              "      filter: drop-shadow(0px 1px 2px rgba(0, 0, 0, 0.3));\n",
              "      fill: #FFFFFF;\n",
              "    }\n",
              "  </style>\n",
              "\n",
              "      <script>\n",
              "        const buttonEl =\n",
              "          document.querySelector('#df-e3fa0395-e822-42b8-ba5b-aafe05e5216e button.colab-df-convert');\n",
              "        buttonEl.style.display =\n",
              "          google.colab.kernel.accessAllowed ? 'block' : 'none';\n",
              "\n",
              "        async function convertToInteractive(key) {\n",
              "          const element = document.querySelector('#df-e3fa0395-e822-42b8-ba5b-aafe05e5216e');\n",
              "          const dataTable =\n",
              "            await google.colab.kernel.invokeFunction('convertToInteractive',\n",
              "                                                     [key], {});\n",
              "          if (!dataTable) return;\n",
              "\n",
              "          const docLinkHtml = 'Like what you see? Visit the ' +\n",
              "            '<a target=\"_blank\" href=https://colab.research.google.com/notebooks/data_table.ipynb>data table notebook</a>'\n",
              "            + ' to learn more about interactive tables.';\n",
              "          element.innerHTML = '';\n",
              "          dataTable['output_type'] = 'display_data';\n",
              "          await google.colab.output.renderOutput(dataTable, element);\n",
              "          const docLink = document.createElement('div');\n",
              "          docLink.innerHTML = docLinkHtml;\n",
              "          element.appendChild(docLink);\n",
              "        }\n",
              "      </script>\n",
              "    </div>\n",
              "  </div>\n",
              "  "
            ],
            "text/plain": [
              "   pclass  survived  ...   body                        home.dest\n",
              "0       1         1  ...    NaN                     St Louis, MO\n",
              "1       1         1  ...    NaN  Montreal, PQ / Chesterville, ON\n",
              "2       1         0  ...    NaN  Montreal, PQ / Chesterville, ON\n",
              "3       1         0  ...  135.0  Montreal, PQ / Chesterville, ON\n",
              "4       1         0  ...    NaN  Montreal, PQ / Chesterville, ON\n",
              "\n",
              "[5 rows x 14 columns]"
            ]
          },
          "metadata": {},
          "execution_count": 2
        }
      ],
      "source": [
        "import pandas as pd\n",
        "import numpy as np\n",
        "\n",
        "from sklearn.compose import ColumnTransformer\n",
        "from sklearn.pipeline import Pipeline\n",
        "from sklearn.impute import SimpleImputer\n",
        "from sklearn.preprocessing import StandardScaler, OneHotEncoder\n",
        "from sklearn.linear_model import LogisticRegression\n",
        "from sklearn.model_selection import train_test_split, GridSearchCV\n",
        "\n",
        "np.random.seed(0)\n",
        "\n",
        "# Read data from Titanic dataset.\n",
        "titanic_url = ('https://raw.githubusercontent.com/amueller/'\n",
        "               'scipy-2017-sklearn/091d371/notebooks/datasets/titanic3.csv')\n",
        "data = pd.read_csv(titanic_url)\n",
        "\n",
        "# We will train our classifier with the following features:\n",
        "# Numeric Features:\n",
        "# - age: float.\n",
        "# - fare: float.\n",
        "# Categorical Features:\n",
        "# - embarked: categories encoded as strings {'C', 'S', 'Q'}.\n",
        "# - sex: categories encoded as strings {'female', 'male'}.\n",
        "# - pclass: ordinal integers {1, 2, 3}.\n",
        "\n",
        "print(data.shape)\n",
        "\n",
        "data.head()"
      ]
    },
    {
      "cell_type": "code",
      "execution_count": 3,
      "metadata": {
        "id": "saa_0HOs_Crs"
      },
      "outputs": [],
      "source": [
        "# Preprocess data using sklearn's Column Transformer approach\n",
        "\n",
        "# We create the preprocessing pipelines for both numeric and categorical data.\n",
        "numeric_features = ['age', 'fare']\n",
        "numeric_transformer = Pipeline(steps=[\n",
        "    ('imputer', SimpleImputer(strategy='median')),\n",
        "    ('scaler', StandardScaler())])\n",
        "\n",
        "categorical_features = ['embarked', 'sex', 'pclass']\n",
        "\n",
        "# Replacing missing values with Modal value and then one-hot encoding.\n",
        "categorical_transformer = Pipeline(steps=[\n",
        "    ('imputer', SimpleImputer(strategy='most_frequent')),\n",
        "    ('onehot', OneHotEncoder(handle_unknown='ignore'))])\n",
        "\n",
        "# Final preprocessor object set up with ColumnTransformer...\n",
        "preprocess = ColumnTransformer(\n",
        "    transformers=[\n",
        "        ('num', numeric_transformer, numeric_features),\n",
        "        ('cat', categorical_transformer, categorical_features)])\n",
        "\n",
        "# Target = survived\n",
        "y = data['survived']\n",
        "y = y.map({0: 'died', 1: 'survived'})\n",
        "\n",
        "# keep only pclass, sex, age, fare, embarked as features \n",
        "X = data.drop(['survived','sibsp','parch','ticket','name','cabin','boat','body','home.dest'], axis=1)\n",
        "\n",
        "\n",
        "X_train, X_test, y_train, y_test = train_test_split(X, y, test_size=0.2)\n",
        "\n",
        "# fit preprocessor to your data\n",
        "preprocess = preprocess.fit(X_train)"
      ]
    },
    {
      "cell_type": "code",
      "execution_count": 4,
      "metadata": {
        "id": "f13wPZcKt6ew"
      },
      "outputs": [],
      "source": [
        "# Write function to transform data with preprocessor\n",
        "\n",
        "def preprocessor(data):\n",
        "    preprocessed_data=preprocess.transform(data)\n",
        "    return preprocessed_data"
      ]
    },
    {
      "cell_type": "code",
      "execution_count": 5,
      "metadata": {
        "colab": {
          "base_uri": "https://localhost:8080/"
        },
        "id": "PUS87JAc6m7h",
        "outputId": "cbc56dbc-0d7e-4819-aff9-2cd8d9117e9f"
      },
      "outputs": [
        {
          "output_type": "execute_result",
          "data": {
            "text/plain": [
              "(1047, 5)"
            ]
          },
          "metadata": {},
          "execution_count": 5
        }
      ],
      "source": [
        "X_train.shape"
      ]
    },
    {
      "cell_type": "code",
      "execution_count": 29,
      "metadata": {
        "colab": {
          "base_uri": "https://localhost:8080/"
        },
        "id": "wfQPzGdG92bt",
        "outputId": "1ca032eb-63ad-43c1-d660-ae66df68a1d5"
      },
      "outputs": [
        {
          "output_type": "execute_result",
          "data": {
            "text/plain": [
              "array([[-0.37016209, -0.50478215,  0.        , ...,  0.        ,\n",
              "         0.        ,  1.        ],\n",
              "       [ 0.90402864,  1.97155505,  1.        , ...,  1.        ,\n",
              "         0.        ,  0.        ],\n",
              "       [-0.13125133, -0.5085326 ,  0.        , ...,  0.        ,\n",
              "         0.        ,  1.        ],\n",
              "       ...,\n",
              "       [-0.13125133, -0.5085326 ,  0.        , ...,  0.        ,\n",
              "         0.        ,  1.        ],\n",
              "       [-0.7683467 ,  0.05915559,  0.        , ...,  0.        ,\n",
              "         1.        ,  0.        ],\n",
              "       [ 0.18729636, -0.35658342,  0.        , ...,  0.        ,\n",
              "         0.        ,  1.        ]])"
            ]
          },
          "metadata": {},
          "execution_count": 29
        }
      ],
      "source": [
        "# Notice categorical feature columns have been one-hot encoded\n",
        "preprocessor(X_train)"
      ]
    },
    {
      "cell_type": "markdown",
      "metadata": {
        "id": "Yr19F1vtM8wy"
      },
      "source": [
        "## **(2) Build Your Model Using `sklearn`**"
      ]
    },
    {
      "cell_type": "code",
      "execution_count": 7,
      "metadata": {
        "colab": {
          "base_uri": "https://localhost:8080/"
        },
        "id": "tW9AGI7RuHFo",
        "outputId": "4b77f929-32d1-4eaa-d913-d3dc5c8ed51e"
      },
      "outputs": [
        {
          "output_type": "stream",
          "name": "stdout",
          "text": [
            "(1047, 5) (262, 5) (1047,) (262,)\n"
          ]
        }
      ],
      "source": [
        "print(X_train.shape, X_test.shape, \n",
        "      y_train.shape, y_test.shape)"
      ]
    },
    {
      "cell_type": "code",
      "execution_count": 8,
      "metadata": {
        "colab": {
          "base_uri": "https://localhost:8080/"
        },
        "id": "8Q5MUZBh1Rt8",
        "outputId": "91b91608-a007-4068-ae88-6984ee8673e4"
      },
      "outputs": [
        {
          "output_type": "stream",
          "name": "stdout",
          "text": [
            "Best Parameters {:.3f}: {'C': 10.0, 'penalty': 'l2'}\n"
          ]
        }
      ],
      "source": [
        "# Penalized Logit...\n",
        "\n",
        "hyperparameters = {'C':np.logspace(1, 10, 100), 'penalty':['l2']}\n",
        "\n",
        "logit = LogisticRegression()\n",
        "logit_cv = GridSearchCV(logit, hyperparameters, cv = 10)\n",
        "logit_cv.fit(preprocessor(X_train), y_train)\n",
        "\n",
        "print(\"Best Parameters {:.3f}:\", logit_cv.best_params_)"
      ]
    },
    {
      "cell_type": "code",
      "execution_count": 9,
      "metadata": {
        "colab": {
          "base_uri": "https://localhost:8080/"
        },
        "id": "MIZgHHfzAJvA",
        "outputId": "54918a8d-9331-4ac0-8986-66cbeb7a543c"
      },
      "outputs": [
        {
          "output_type": "execute_result",
          "data": {
            "text/plain": [
              "LogisticRegression(C=10.0)"
            ]
          },
          "metadata": {},
          "execution_count": 9
        }
      ],
      "source": [
        "logit_cv.best_estimator_"
      ]
    },
    {
      "cell_type": "code",
      "execution_count": 35,
      "metadata": {
        "colab": {
          "base_uri": "https://localhost:8080/"
        },
        "id": "-NHxh8nyuHZm",
        "outputId": "b927443e-7cf8-45aa-d8ac-07984e30691a"
      },
      "outputs": [
        {
          "output_type": "execute_result",
          "data": {
            "text/plain": [
              "0.7793696275071633"
            ]
          },
          "metadata": {},
          "execution_count": 35
        }
      ],
      "source": [
        "model = LogisticRegression(C=10, penalty='l2')\n",
        "\n",
        "model.fit(preprocessor(X_train), y_train) # Fitting to the training set.\n",
        "\n",
        "model.score(preprocessor(X_train), y_train) # Fit score, 0-1 scale."
      ]
    },
    {
      "cell_type": "code",
      "execution_count": 36,
      "metadata": {
        "colab": {
          "base_uri": "https://localhost:8080/"
        },
        "id": "mk8cP1d44gqa",
        "outputId": "3c46e999-33c4-4485-f209-bde2046d744c"
      },
      "outputs": [
        {
          "output_type": "execute_result",
          "data": {
            "text/plain": [
              "array(['died', 'survived', 'died', 'died', 'died', 'survived', 'died',\n",
              "       'died', 'died', 'died', 'died', 'died', 'died', 'survived',\n",
              "       'survived', 'died', 'survived', 'died', 'survived', 'died', 'died',\n",
              "       'died', 'died', 'survived', 'died', 'survived', 'died', 'died',\n",
              "       'died', 'survived', 'survived', 'survived', 'survived', 'died',\n",
              "       'survived', 'died', 'died', 'died', 'died', 'died', 'died', 'died',\n",
              "       'died', 'died', 'survived', 'died', 'died', 'survived', 'died',\n",
              "       'died', 'survived', 'died', 'died', 'survived', 'died', 'died',\n",
              "       'survived', 'died', 'survived', 'survived', 'died', 'died',\n",
              "       'survived', 'died', 'survived', 'survived', 'died', 'died', 'died',\n",
              "       'survived', 'survived', 'died', 'died', 'died', 'survived',\n",
              "       'survived', 'died', 'survived', 'survived', 'died', 'died',\n",
              "       'survived', 'died', 'died', 'survived', 'survived', 'died', 'died',\n",
              "       'died', 'died', 'died', 'died', 'died', 'died', 'died', 'died',\n",
              "       'died', 'survived', 'died', 'survived', 'died', 'died', 'died',\n",
              "       'survived', 'died', 'died', 'survived', 'died', 'died', 'died',\n",
              "       'died', 'survived', 'died', 'died', 'survived', 'died', 'died',\n",
              "       'died', 'died', 'survived', 'died', 'died', 'survived', 'survived',\n",
              "       'died', 'died', 'died', 'died', 'died', 'died', 'died', 'survived',\n",
              "       'died', 'survived', 'died', 'died', 'died', 'survived', 'died',\n",
              "       'survived', 'died', 'survived', 'died', 'died', 'died', 'died',\n",
              "       'survived', 'died', 'survived', 'died', 'survived', 'died', 'died',\n",
              "       'survived', 'died', 'died', 'survived', 'survived', 'died', 'died',\n",
              "       'died', 'died', 'died', 'survived', 'died', 'survived', 'died',\n",
              "       'died', 'died', 'died', 'died', 'died', 'survived', 'died',\n",
              "       'survived', 'died', 'died', 'survived', 'survived', 'survived',\n",
              "       'survived', 'died', 'survived', 'died', 'survived', 'survived',\n",
              "       'survived', 'died', 'died', 'died', 'died', 'died', 'survived',\n",
              "       'died', 'died', 'survived', 'died', 'survived', 'died', 'died',\n",
              "       'died', 'died', 'died', 'survived', 'died', 'died', 'died', 'died',\n",
              "       'died', 'died', 'survived', 'died', 'died', 'died', 'survived',\n",
              "       'died', 'died', 'died', 'died', 'died', 'survived', 'survived',\n",
              "       'survived', 'survived', 'survived', 'died', 'survived', 'survived',\n",
              "       'survived', 'survived', 'survived', 'died', 'died', 'survived',\n",
              "       'died', 'died', 'survived', 'died', 'died', 'died', 'died',\n",
              "       'survived', 'died', 'died', 'died', 'died', 'died', 'died',\n",
              "       'survived', 'died', 'died', 'died', 'died', 'died', 'died', 'died',\n",
              "       'survived', 'died', 'died', 'died', 'died', 'died'], dtype=object)"
            ]
          },
          "metadata": {},
          "execution_count": 36
        }
      ],
      "source": [
        "y_pred = model.predict(preprocessor(X_test))\n",
        "\n",
        "y_pred"
      ]
    },
    {
      "cell_type": "code",
      "execution_count": 37,
      "metadata": {
        "colab": {
          "base_uri": "https://localhost:8080/"
        },
        "id": "vlF8MmPvuHMv",
        "outputId": "3fd19be0-a605-49eb-e29b-242a5a55f7d3"
      },
      "outputs": [
        {
          "output_type": "stream",
          "name": "stdout",
          "text": [
            "Accuracy: 79.01%\n"
          ]
        }
      ],
      "source": [
        "# Evaluate held out test data\n",
        "from sklearn.metrics import accuracy_score\n",
        "\n",
        "print(\"Accuracy: {:.2f}%\".format(accuracy_score(y_test, y_pred) * 100))"
      ]
    },
    {
      "cell_type": "markdown",
      "metadata": {
        "id": "RS0525lsyb9Z"
      },
      "source": [
        "# Code to be able to submit to AI Model Share (through `aimodelshare` API)"
      ]
    },
    {
      "cell_type": "markdown",
      "metadata": {
        "id": "2YNi39LvBdpT"
      },
      "source": [
        "#### Step (1) install `aimodelshare` library"
      ]
    },
    {
      "cell_type": "code",
      "execution_count": 13,
      "metadata": {
        "colab": {
          "base_uri": "https://localhost:8080/",
          "height": 1000
        },
        "id": "V7yg4w1P9rlq",
        "outputId": "ce91d6fe-2a3b-4cac-b1b9-ad1ed0d71e8d"
      },
      "outputs": [
        {
          "output_type": "stream",
          "name": "stdout",
          "text": [
            "Collecting aimodelshare\n",
            "  Downloading aimodelshare-0.0.86-py3-none-any.whl (131 kB)\n",
            "\u001b[K     |████████████████████████████████| 131 kB 13.7 MB/s \n",
            "\u001b[?25hCollecting onnx>=1.9.0\n",
            "  Downloading onnx-1.10.2-cp37-cp37m-manylinux_2_12_x86_64.manylinux2010_x86_64.whl (12.7 MB)\n",
            "\u001b[K     |████████████████████████████████| 12.7 MB 10.3 MB/s \n",
            "\u001b[?25hCollecting skl2onnx>=1.8.0\n",
            "  Downloading skl2onnx-1.10.4-py2.py3-none-any.whl (273 kB)\n",
            "\u001b[K     |████████████████████████████████| 273 kB 40.3 MB/s \n",
            "\u001b[?25hCollecting Pympler==0.9\n",
            "  Downloading Pympler-0.9.tar.gz (178 kB)\n",
            "\u001b[K     |████████████████████████████████| 178 kB 31.6 MB/s \n",
            "\u001b[?25hCollecting PyJWT==2.2.0\n",
            "  Downloading PyJWT-2.2.0-py3-none-any.whl (16 kB)\n",
            "Requirement already satisfied: seaborn>=0.11.2 in /usr/local/lib/python3.7/dist-packages (from aimodelshare) (0.11.2)\n",
            "Collecting scikit-learn==0.24.2\n",
            "  Downloading scikit_learn-0.24.2-cp37-cp37m-manylinux2010_x86_64.whl (22.3 MB)\n",
            "\u001b[K     |████████████████████████████████| 22.3 MB 1.5 MB/s \n",
            "\u001b[?25hCollecting keras2onnx>=1.7.0\n",
            "  Downloading keras2onnx-1.7.0-py3-none-any.whl (96 kB)\n",
            "\u001b[K     |████████████████████████████████| 96 kB 4.9 MB/s \n",
            "\u001b[?25hRequirement already satisfied: astunparse==1.6.3 in /usr/local/lib/python3.7/dist-packages (from aimodelshare) (1.6.3)\n",
            "Requirement already satisfied: torch>=1.8.1 in /usr/local/lib/python3.7/dist-packages (from aimodelshare) (1.10.0+cu111)\n",
            "Collecting onnxmltools>=1.6.1\n",
            "  Downloading onnxmltools-1.10.0-py2.py3-none-any.whl (300 kB)\n",
            "\u001b[K     |████████████████████████████████| 300 kB 65.5 MB/s \n",
            "\u001b[?25hCollecting botocore==1.21.2\n",
            "  Downloading botocore-1.21.2-py3-none-any.whl (7.7 MB)\n",
            "\u001b[K     |████████████████████████████████| 7.7 MB 46.8 MB/s \n",
            "\u001b[?25hCollecting boto3==1.18.2\n",
            "  Downloading boto3-1.18.2-py3-none-any.whl (131 kB)\n",
            "\u001b[K     |████████████████████████████████| 131 kB 58.2 MB/s \n",
            "\u001b[?25hCollecting onnxconverter-common>=1.7.0\n",
            "  Downloading onnxconverter_common-1.9.0-py2.py3-none-any.whl (78 kB)\n",
            "\u001b[K     |████████████████████████████████| 78 kB 5.6 MB/s \n",
            "\u001b[?25hCollecting wget==3.2\n",
            "  Downloading wget-3.2.zip (10 kB)\n",
            "Collecting docker==5.0.0\n",
            "  Downloading docker-5.0.0-py2.py3-none-any.whl (146 kB)\n",
            "\u001b[K     |████████████████████████████████| 146 kB 63.8 MB/s \n",
            "\u001b[?25hCollecting onnxruntime>=1.7.0\n",
            "  Downloading onnxruntime-1.10.0-cp37-cp37m-manylinux_2_17_x86_64.manylinux2014_x86_64.whl (4.9 MB)\n",
            "\u001b[K     |████████████████████████████████| 4.9 MB 55.8 MB/s \n",
            "\u001b[?25hCollecting tensorflow>=2.5.0\n",
            "  Downloading tensorflow-2.7.0-cp37-cp37m-manylinux2010_x86_64.whl (489.6 MB)\n",
            "\u001b[K     |████████████████████████████████| 489.6 MB 23 kB/s \n",
            "\u001b[?25hRequirement already satisfied: xgboost>=0.90 in /usr/local/lib/python3.7/dist-packages (from aimodelshare) (0.90)\n",
            "Collecting urllib3==1.25.11\n",
            "  Downloading urllib3-1.25.11-py2.py3-none-any.whl (127 kB)\n",
            "\u001b[K     |████████████████████████████████| 127 kB 49.9 MB/s \n",
            "\u001b[?25hCollecting tf2onnx\n",
            "  Downloading tf2onnx-1.9.3-py3-none-any.whl (435 kB)\n",
            "\u001b[K     |████████████████████████████████| 435 kB 44.9 MB/s \n",
            "\u001b[?25hCollecting shortuuid>=1.0.8\n",
            "  Downloading shortuuid-1.0.8-py3-none-any.whl (9.5 kB)\n",
            "Requirement already satisfied: six<2.0,>=1.6.1 in /usr/local/lib/python3.7/dist-packages (from astunparse==1.6.3->aimodelshare) (1.15.0)\n",
            "Requirement already satisfied: wheel<1.0,>=0.23.0 in /usr/local/lib/python3.7/dist-packages (from astunparse==1.6.3->aimodelshare) (0.37.1)\n",
            "Collecting jmespath<1.0.0,>=0.7.1\n",
            "  Downloading jmespath-0.10.0-py2.py3-none-any.whl (24 kB)\n",
            "Collecting s3transfer<0.6.0,>=0.5.0\n",
            "  Downloading s3transfer-0.5.0-py3-none-any.whl (79 kB)\n",
            "\u001b[K     |████████████████████████████████| 79 kB 6.4 MB/s \n",
            "\u001b[?25hRequirement already satisfied: python-dateutil<3.0.0,>=2.1 in /usr/local/lib/python3.7/dist-packages (from botocore==1.21.2->aimodelshare) (2.8.2)\n",
            "Requirement already satisfied: requests!=2.18.0,>=2.14.2 in /usr/local/lib/python3.7/dist-packages (from docker==5.0.0->aimodelshare) (2.23.0)\n",
            "Collecting websocket-client>=0.32.0\n",
            "  Downloading websocket_client-1.2.3-py3-none-any.whl (53 kB)\n",
            "\u001b[K     |████████████████████████████████| 53 kB 1.6 MB/s \n",
            "\u001b[?25hRequirement already satisfied: threadpoolctl>=2.0.0 in /usr/local/lib/python3.7/dist-packages (from scikit-learn==0.24.2->aimodelshare) (3.0.0)\n",
            "Requirement already satisfied: scipy>=0.19.1 in /usr/local/lib/python3.7/dist-packages (from scikit-learn==0.24.2->aimodelshare) (1.4.1)\n",
            "Requirement already satisfied: joblib>=0.11 in /usr/local/lib/python3.7/dist-packages (from scikit-learn==0.24.2->aimodelshare) (1.1.0)\n",
            "Requirement already satisfied: numpy>=1.13.3 in /usr/local/lib/python3.7/dist-packages (from scikit-learn==0.24.2->aimodelshare) (1.19.5)\n",
            "Collecting fire\n",
            "  Downloading fire-0.4.0.tar.gz (87 kB)\n",
            "\u001b[K     |████████████████████████████████| 87 kB 5.2 MB/s \n",
            "\u001b[?25hRequirement already satisfied: protobuf in /usr/local/lib/python3.7/dist-packages (from keras2onnx>=1.7.0->aimodelshare) (3.17.3)\n",
            "Requirement already satisfied: typing-extensions>=3.6.2.1 in /usr/local/lib/python3.7/dist-packages (from onnx>=1.9.0->aimodelshare) (3.10.0.2)\n",
            "Requirement already satisfied: flatbuffers in /usr/local/lib/python3.7/dist-packages (from onnxruntime>=1.7.0->aimodelshare) (2.0)\n",
            "Requirement already satisfied: chardet<4,>=3.0.2 in /usr/local/lib/python3.7/dist-packages (from requests!=2.18.0,>=2.14.2->docker==5.0.0->aimodelshare) (3.0.4)\n",
            "Requirement already satisfied: idna<3,>=2.5 in /usr/local/lib/python3.7/dist-packages (from requests!=2.18.0,>=2.14.2->docker==5.0.0->aimodelshare) (2.10)\n",
            "Requirement already satisfied: certifi>=2017.4.17 in /usr/local/lib/python3.7/dist-packages (from requests!=2.18.0,>=2.14.2->docker==5.0.0->aimodelshare) (2021.10.8)\n",
            "Requirement already satisfied: matplotlib>=2.2 in /usr/local/lib/python3.7/dist-packages (from seaborn>=0.11.2->aimodelshare) (3.2.2)\n",
            "Requirement already satisfied: pandas>=0.23 in /usr/local/lib/python3.7/dist-packages (from seaborn>=0.11.2->aimodelshare) (1.1.5)\n",
            "Requirement already satisfied: kiwisolver>=1.0.1 in /usr/local/lib/python3.7/dist-packages (from matplotlib>=2.2->seaborn>=0.11.2->aimodelshare) (1.3.2)\n",
            "Requirement already satisfied: cycler>=0.10 in /usr/local/lib/python3.7/dist-packages (from matplotlib>=2.2->seaborn>=0.11.2->aimodelshare) (0.11.0)\n",
            "Requirement already satisfied: pyparsing!=2.0.4,!=2.1.2,!=2.1.6,>=2.0.1 in /usr/local/lib/python3.7/dist-packages (from matplotlib>=2.2->seaborn>=0.11.2->aimodelshare) (3.0.6)\n",
            "Requirement already satisfied: pytz>=2017.2 in /usr/local/lib/python3.7/dist-packages (from pandas>=0.23->seaborn>=0.11.2->aimodelshare) (2018.9)\n",
            "Requirement already satisfied: termcolor>=1.1.0 in /usr/local/lib/python3.7/dist-packages (from tensorflow>=2.5.0->aimodelshare) (1.1.0)\n",
            "Requirement already satisfied: keras-preprocessing>=1.1.1 in /usr/local/lib/python3.7/dist-packages (from tensorflow>=2.5.0->aimodelshare) (1.1.2)\n",
            "Requirement already satisfied: libclang>=9.0.1 in /usr/local/lib/python3.7/dist-packages (from tensorflow>=2.5.0->aimodelshare) (12.0.0)\n",
            "Requirement already satisfied: wrapt>=1.11.0 in /usr/local/lib/python3.7/dist-packages (from tensorflow>=2.5.0->aimodelshare) (1.13.3)\n",
            "Requirement already satisfied: grpcio<2.0,>=1.24.3 in /usr/local/lib/python3.7/dist-packages (from tensorflow>=2.5.0->aimodelshare) (1.43.0)\n",
            "Requirement already satisfied: opt-einsum>=2.3.2 in /usr/local/lib/python3.7/dist-packages (from tensorflow>=2.5.0->aimodelshare) (3.3.0)\n",
            "Requirement already satisfied: h5py>=2.9.0 in /usr/local/lib/python3.7/dist-packages (from tensorflow>=2.5.0->aimodelshare) (3.1.0)\n",
            "Requirement already satisfied: absl-py>=0.4.0 in /usr/local/lib/python3.7/dist-packages (from tensorflow>=2.5.0->aimodelshare) (0.12.0)\n",
            "Collecting tensorboard~=2.6\n",
            "  Downloading tensorboard-2.8.0-py3-none-any.whl (5.8 MB)\n",
            "\u001b[K     |████████████████████████████████| 5.8 MB 43.1 MB/s \n",
            "\u001b[?25hRequirement already satisfied: google-pasta>=0.1.1 in /usr/local/lib/python3.7/dist-packages (from tensorflow>=2.5.0->aimodelshare) (0.2.0)\n",
            "Requirement already satisfied: tensorflow-io-gcs-filesystem>=0.21.0 in /usr/local/lib/python3.7/dist-packages (from tensorflow>=2.5.0->aimodelshare) (0.23.1)\n",
            "Requirement already satisfied: gast<0.5.0,>=0.2.1 in /usr/local/lib/python3.7/dist-packages (from tensorflow>=2.5.0->aimodelshare) (0.4.0)\n",
            "Collecting tensorflow-estimator<2.8,~=2.7.0rc0\n",
            "  Downloading tensorflow_estimator-2.7.0-py2.py3-none-any.whl (463 kB)\n",
            "\u001b[K     |████████████████████████████████| 463 kB 60.1 MB/s \n",
            "\u001b[?25hCollecting keras<2.8,>=2.7.0rc0\n",
            "  Downloading keras-2.7.0-py2.py3-none-any.whl (1.3 MB)\n",
            "\u001b[K     |████████████████████████████████| 1.3 MB 59.9 MB/s \n",
            "\u001b[?25hRequirement already satisfied: cached-property in /usr/local/lib/python3.7/dist-packages (from h5py>=2.9.0->tensorflow>=2.5.0->aimodelshare) (1.5.2)\n",
            "Requirement already satisfied: setuptools>=41.0.0 in /usr/local/lib/python3.7/dist-packages (from tensorboard~=2.6->tensorflow>=2.5.0->aimodelshare) (57.4.0)\n",
            "Requirement already satisfied: werkzeug>=0.11.15 in /usr/local/lib/python3.7/dist-packages (from tensorboard~=2.6->tensorflow>=2.5.0->aimodelshare) (1.0.1)\n",
            "Requirement already satisfied: google-auth-oauthlib<0.5,>=0.4.1 in /usr/local/lib/python3.7/dist-packages (from tensorboard~=2.6->tensorflow>=2.5.0->aimodelshare) (0.4.6)\n",
            "Requirement already satisfied: google-auth<3,>=1.6.3 in /usr/local/lib/python3.7/dist-packages (from tensorboard~=2.6->tensorflow>=2.5.0->aimodelshare) (1.35.0)\n",
            "Requirement already satisfied: tensorboard-plugin-wit>=1.6.0 in /usr/local/lib/python3.7/dist-packages (from tensorboard~=2.6->tensorflow>=2.5.0->aimodelshare) (1.8.1)\n",
            "Requirement already satisfied: tensorboard-data-server<0.7.0,>=0.6.0 in /usr/local/lib/python3.7/dist-packages (from tensorboard~=2.6->tensorflow>=2.5.0->aimodelshare) (0.6.1)\n",
            "Requirement already satisfied: markdown>=2.6.8 in /usr/local/lib/python3.7/dist-packages (from tensorboard~=2.6->tensorflow>=2.5.0->aimodelshare) (3.3.6)\n",
            "Requirement already satisfied: pyasn1-modules>=0.2.1 in /usr/local/lib/python3.7/dist-packages (from google-auth<3,>=1.6.3->tensorboard~=2.6->tensorflow>=2.5.0->aimodelshare) (0.2.8)\n",
            "Requirement already satisfied: cachetools<5.0,>=2.0.0 in /usr/local/lib/python3.7/dist-packages (from google-auth<3,>=1.6.3->tensorboard~=2.6->tensorflow>=2.5.0->aimodelshare) (4.2.4)\n",
            "Requirement already satisfied: rsa<5,>=3.1.4 in /usr/local/lib/python3.7/dist-packages (from google-auth<3,>=1.6.3->tensorboard~=2.6->tensorflow>=2.5.0->aimodelshare) (4.8)\n",
            "Requirement already satisfied: requests-oauthlib>=0.7.0 in /usr/local/lib/python3.7/dist-packages (from google-auth-oauthlib<0.5,>=0.4.1->tensorboard~=2.6->tensorflow>=2.5.0->aimodelshare) (1.3.0)\n",
            "Requirement already satisfied: importlib-metadata>=4.4 in /usr/local/lib/python3.7/dist-packages (from markdown>=2.6.8->tensorboard~=2.6->tensorflow>=2.5.0->aimodelshare) (4.10.0)\n",
            "Requirement already satisfied: zipp>=0.5 in /usr/local/lib/python3.7/dist-packages (from importlib-metadata>=4.4->markdown>=2.6.8->tensorboard~=2.6->tensorflow>=2.5.0->aimodelshare) (3.7.0)\n",
            "Requirement already satisfied: pyasn1<0.5.0,>=0.4.6 in /usr/local/lib/python3.7/dist-packages (from pyasn1-modules>=0.2.1->google-auth<3,>=1.6.3->tensorboard~=2.6->tensorflow>=2.5.0->aimodelshare) (0.4.8)\n",
            "Requirement already satisfied: oauthlib>=3.0.0 in /usr/local/lib/python3.7/dist-packages (from requests-oauthlib>=0.7.0->google-auth-oauthlib<0.5,>=0.4.1->tensorboard~=2.6->tensorflow>=2.5.0->aimodelshare) (3.1.1)\n",
            "Collecting flatbuffers\n",
            "  Downloading flatbuffers-1.12-py2.py3-none-any.whl (15 kB)\n",
            "Building wheels for collected packages: Pympler, wget, fire\n",
            "  Building wheel for Pympler (setup.py) ... \u001b[?25l\u001b[?25hdone\n",
            "  Created wheel for Pympler: filename=Pympler-0.9-py3-none-any.whl size=164823 sha256=3b2981a7ecb1076c077e87b84dfcb092897f862029cdb89f24d3d767014c17f1\n",
            "  Stored in directory: /root/.cache/pip/wheels/1a/f3/d8/35d5614ea4ddd295ffb9372a5f2f9570d9593d1ea4be33ec6d\n",
            "  Building wheel for wget (setup.py) ... \u001b[?25l\u001b[?25hdone\n",
            "  Created wheel for wget: filename=wget-3.2-py3-none-any.whl size=9675 sha256=30a0209c6c79e4b1758885d6e8465a9e600e959be8d7eeb8ab226dcadb44fed7\n",
            "  Stored in directory: /root/.cache/pip/wheels/a1/b6/7c/0e63e34eb06634181c63adacca38b79ff8f35c37e3c13e3c02\n",
            "  Building wheel for fire (setup.py) ... \u001b[?25l\u001b[?25hdone\n",
            "  Created wheel for fire: filename=fire-0.4.0-py2.py3-none-any.whl size=115942 sha256=b7d876704e5fe3b09df77ed09a0668655288490bb389c26bb8ba7d37738de660\n",
            "  Stored in directory: /root/.cache/pip/wheels/8a/67/fb/2e8a12fa16661b9d5af1f654bd199366799740a85c64981226\n",
            "Successfully built Pympler wget fire\n",
            "Installing collected packages: urllib3, onnx, jmespath, scikit-learn, onnxconverter-common, botocore, websocket-client, tensorflow-estimator, tensorboard, skl2onnx, s3transfer, keras, flatbuffers, fire, wget, tf2onnx, tensorflow, shortuuid, Pympler, PyJWT, onnxruntime, onnxmltools, keras2onnx, docker, boto3, aimodelshare\n",
            "  Attempting uninstall: urllib3\n",
            "    Found existing installation: urllib3 1.24.3\n",
            "    Uninstalling urllib3-1.24.3:\n",
            "      Successfully uninstalled urllib3-1.24.3\n",
            "  Attempting uninstall: scikit-learn\n",
            "    Found existing installation: scikit-learn 1.0.2\n",
            "    Uninstalling scikit-learn-1.0.2:\n",
            "      Successfully uninstalled scikit-learn-1.0.2\n",
            "  Attempting uninstall: tensorflow-estimator\n",
            "    Found existing installation: tensorflow-estimator 1.15.1\n",
            "    Uninstalling tensorflow-estimator-1.15.1:\n",
            "      Successfully uninstalled tensorflow-estimator-1.15.1\n",
            "  Attempting uninstall: tensorboard\n",
            "    Found existing installation: tensorboard 1.15.0\n",
            "    Uninstalling tensorboard-1.15.0:\n",
            "      Successfully uninstalled tensorboard-1.15.0\n",
            "  Attempting uninstall: keras\n",
            "    Found existing installation: Keras 2.3.1\n",
            "    Uninstalling Keras-2.3.1:\n",
            "      Successfully uninstalled Keras-2.3.1\n",
            "  Attempting uninstall: flatbuffers\n",
            "    Found existing installation: flatbuffers 2.0\n",
            "    Uninstalling flatbuffers-2.0:\n",
            "      Successfully uninstalled flatbuffers-2.0\n",
            "  Attempting uninstall: tensorflow\n",
            "    Found existing installation: tensorflow 1.15.2\n",
            "    Uninstalling tensorflow-1.15.2:\n",
            "      Successfully uninstalled tensorflow-1.15.2\n",
            "\u001b[31mERROR: pip's dependency resolver does not currently take into account all the packages that are installed. This behaviour is the source of the following dependency conflicts.\n",
            "lucid 0.3.10 requires umap-learn, which is not installed.\n",
            "lucid 0.3.10 requires numpy<=1.19, but you have numpy 1.19.5 which is incompatible.\n",
            "datascience 0.10.6 requires folium==0.2.1, but you have folium 0.8.3 which is incompatible.\u001b[0m\n",
            "Successfully installed PyJWT-2.2.0 Pympler-0.9 aimodelshare-0.0.86 boto3-1.18.2 botocore-1.21.2 docker-5.0.0 fire-0.4.0 flatbuffers-1.12 jmespath-0.10.0 keras-2.7.0 keras2onnx-1.7.0 onnx-1.10.2 onnxconverter-common-1.9.0 onnxmltools-1.10.0 onnxruntime-1.10.0 s3transfer-0.5.0 scikit-learn-0.24.2 shortuuid-1.0.8 skl2onnx-1.10.4 tensorboard-2.8.0 tensorflow-2.7.0 tensorflow-estimator-2.7.0 tf2onnx-1.9.3 urllib3-1.25.11 websocket-client-1.2.3 wget-3.2\n"
          ]
        },
        {
          "output_type": "display_data",
          "data": {
            "application/vnd.colab-display-data+json": {
              "pip_warning": {
                "packages": [
                  "sklearn",
                  "urllib3"
                ]
              }
            }
          },
          "metadata": {}
        }
      ],
      "source": [
        "! pip install aimodelshare --upgrade"
      ]
    },
    {
      "cell_type": "markdown",
      "metadata": {
        "id": "l35Qc-oDBbKP"
      },
      "source": [
        "#### Step (2) import the `aimodelshare` library and (locally) create a preprocessor object which contains all aimodelshare needs for deployment"
      ]
    },
    {
      "cell_type": "code",
      "execution_count": 14,
      "metadata": {
        "id": "CQcGAE159vY7",
        "colab": {
          "base_uri": "https://localhost:8080/"
        },
        "outputId": "c34b6e39-2338-4009-b95c-d43588cbaceb"
      },
      "outputs": [
        {
          "output_type": "stream",
          "name": "stdout",
          "text": [
            "Your preprocessor is now saved to 'preprocessor.zip'\n"
          ]
        }
      ],
      "source": [
        "import aimodelshare as ai\n",
        "ai.export_preprocessor(preprocessor,\"\")"
      ]
    },
    {
      "cell_type": "markdown",
      "metadata": {
        "id": "fj0A3uOnB81X"
      },
      "source": [
        "#### Step (3) import the preprocessor that was just created "
      ]
    },
    {
      "cell_type": "code",
      "execution_count": 15,
      "metadata": {
        "colab": {
          "base_uri": "https://localhost:8080/"
        },
        "id": "MLAjAQOA9z0d",
        "outputId": "83d7369a-480e-4e38-d02f-bc71851d7779"
      },
      "outputs": [
        {
          "output_type": "execute_result",
          "data": {
            "text/plain": [
              "array([[ 0.66511788, -0.50535342,  0.        , ...,  0.        ,\n",
              "         0.        ,  1.        ],\n",
              "       [-0.68870978, -0.24898038,  0.        , ...,  0.        ,\n",
              "         1.        ,  0.        ],\n",
              "       [ 0.98366557, -0.13159525,  0.        , ...,  0.        ,\n",
              "         1.        ,  0.        ],\n",
              "       ...,\n",
              "       [ 0.02802251, -0.40549389,  0.        , ...,  0.        ,\n",
              "         1.        ,  0.        ],\n",
              "       [-0.29052517, -0.40549389,  0.        , ...,  0.        ,\n",
              "         1.        ,  0.        ],\n",
              "       [-0.13125133, -0.50233662,  0.        , ...,  0.        ,\n",
              "         0.        ,  1.        ]])"
            ]
          },
          "metadata": {},
          "execution_count": 15
        }
      ],
      "source": [
        "prep = ai.import_preprocessor(\"preprocessor.zip\")\n",
        "prep(X_test)"
      ]
    },
    {
      "cell_type": "markdown",
      "metadata": {
        "id": "ussR6TFVCTLj"
      },
      "source": [
        "#### Step (4) convert the model output object to an ONNX file"
      ]
    },
    {
      "cell_type": "code",
      "execution_count": 38,
      "metadata": {
        "id": "D7OO-Wra9jce"
      },
      "outputs": [],
      "source": [
        "from aimodelshare.aimsonnx import model_to_onnx\n",
        "from skl2onnx.common.data_types import FloatTensorType\n",
        "\n",
        "# Get count of preprocessed features\n",
        "feature_count = preprocessor(X_test).shape[1] \n",
        "\n",
        "# Insert correct number of preprocessed features\n",
        "initial_type = [('float_input', FloatTensorType([None, feature_count]))]\n",
        "\n",
        "# transform sklearn model to ONNX\n",
        "onnx_model_sklearn = model_to_onnx(model, framework='sklearn', \n",
        "                                   initial_types=initial_type,\n",
        "                                   transfer_learning=False,\n",
        "                                   deep_learning=False, \n",
        "                                   task_type = 'classification')\n",
        "\n",
        "# Save model to local .onnx file\n",
        "with open(\"onnx_model_sklearn.onnx\", \"wb\") as f:\n",
        "    f.write(onnx_model_sklearn.SerializeToString())"
      ]
    },
    {
      "cell_type": "markdown",
      "metadata": {
        "id": "kA1ruXsDCeA1"
      },
      "source": [
        "#### Step (5) create model predictions for submission"
      ]
    },
    {
      "cell_type": "code",
      "execution_count": 39,
      "metadata": {
        "id": "wzr8hOF6-GLR"
      },
      "outputs": [],
      "source": [
        "predictions_sklearn = model.predict(preprocessor(X_test))"
      ]
    },
    {
      "cell_type": "markdown",
      "metadata": {
        "id": "0oMiaAvDCj10"
      },
      "source": [
        "#### Step (6) add AI Model Share credentials for the Playground"
      ]
    },
    {
      "cell_type": "code",
      "execution_count": 41,
      "metadata": {
        "colab": {
          "base_uri": "https://localhost:8080/"
        },
        "id": "TKUWh__oCt7g",
        "outputId": "9f567f11-07dc-47d7-d18b-3d89ed5c2c80"
      },
      "outputs": [
        {
          "output_type": "stream",
          "name": "stdout",
          "text": [
            "AI Modelshare Username:··········\n",
            "AI Modelshare Password:··········\n",
            "AI Model Share login credentials set successfully.\n"
          ]
        }
      ],
      "source": [
        "# Set credentials for model submissions to this competition by running below  \n",
        "# function, then entering aimodelshare username and password.  Public \n",
        "# competitions allow any aimodelshare user to submit new models.\n",
        "\n",
        "from aimodelshare.aws import set_credentials\n",
        "\n",
        "apiurl = \"https://wgwd00tice.execute-api.us-east-1.amazonaws.com/prod/m\"\n",
        "\n",
        "set_credentials(apiurl=apiurl)"
      ]
    },
    {
      "cell_type": "markdown",
      "metadata": {
        "id": "fkJ2_yhkOwFs"
      },
      "source": [
        "#### Step (7) Instantiate competition and submit model + predictions"
      ]
    },
    {
      "cell_type": "code",
      "execution_count": 42,
      "metadata": {
        "id": "xApzW6_ZNB5V"
      },
      "outputs": [],
      "source": [
        "# Instantiate Competition\n",
        "mycompetition = ai.Competition(apiurl)"
      ]
    },
    {
      "cell_type": "code",
      "source": [
        "#-- Generate predicted values (a list of predicted labels \"survived\" or \"died\") (Model 1)\n",
        "prediction_labels = model.predict(preprocessor(X_test))"
      ],
      "metadata": {
        "id": "obtWi-5-fHE2"
      },
      "execution_count": 43,
      "outputs": []
    },
    {
      "cell_type": "code",
      "execution_count": 44,
      "metadata": {
        "id": "jiFZ4Q0TDMPN",
        "colab": {
          "base_uri": "https://localhost:8080/"
        },
        "outputId": "5425ab59-62fc-4a61-e66e-888c04f14576"
      },
      "outputs": [
        {
          "output_type": "stream",
          "name": "stdout",
          "text": [
            "Insert search tags to help users find your model (optional):  \n",
            "Provide any useful notes about your model (optional): \n",
            "\n",
            "Your model has been submitted as model version 13\n",
            "\n",
            "To submit code used to create this model or to view current leaderboard navigate to Model Playground: \n",
            "\n",
            " https://www.modelshare.org/detail/model:1187\n"
          ]
        }
      ],
      "source": [
        "# Submit model and predictions to competition leaderboard\n",
        "mycompetition.submit_model(model_filepath = \"onnx_model_sklearn.onnx\",\n",
        "                preprocessor_filepath=\"preprocessor.zip\",\n",
        "                prediction_submission=prediction_labels)"
      ]
    },
    {
      "cell_type": "markdown",
      "source": [
        "#### Step (8) get leaderbord and learn from submissions"
      ],
      "metadata": {
        "id": "m1EFrj0U-xh-"
      }
    },
    {
      "cell_type": "code",
      "source": [
        "# Get leaderboard to explore current best model architectures\n",
        "\n",
        "# Get raw data in pandas data frame\n",
        "data = mycompetition.get_leaderboard()\n",
        "\n",
        "# Stylize leaderboard data\n",
        "mycompetition.stylize_leaderboard(data)"
      ],
      "metadata": {
        "colab": {
          "base_uri": "https://localhost:8080/",
          "height": 897
        },
        "id": "gZtrm4p5-YsL",
        "outputId": "e173bce3-f1b6-4b23-e240-52ac7a3457df"
      },
      "execution_count": 45,
      "outputs": [
        {
          "output_type": "execute_result",
          "data": {
            "text/html": [
              "<style  type=\"text/css\" >\n",
              "#T_356cec52_7d6d_11ec_9e41_0242ac1c0002row0_col0{\n",
              "            text-align:  center;\n",
              "            width:  10em;\n",
              "             height:  80%;\n",
              "            background:  linear-gradient(90deg,#f5f8d6 82.8%, transparent 82.8%);\n",
              "            color:  #251e1b;\n",
              "            font-size:  12px;\n",
              "        }#T_356cec52_7d6d_11ec_9e41_0242ac1c0002row0_col1{\n",
              "            text-align:  center;\n",
              "            width:  10em;\n",
              "             height:  80%;\n",
              "            background:  linear-gradient(90deg,#c778c8 80.3%, transparent 80.3%);\n",
              "            color:  #251e1b;\n",
              "            font-size:  12px;\n",
              "        }#T_356cec52_7d6d_11ec_9e41_0242ac1c0002row0_col2{\n",
              "            text-align:  center;\n",
              "            width:  10em;\n",
              "             height:  80%;\n",
              "            background:  linear-gradient(90deg,#ff4971 83.5%, transparent 83.5%);\n",
              "            color:  #251e1b;\n",
              "            font-size:  12px;\n",
              "        }#T_356cec52_7d6d_11ec_9e41_0242ac1c0002row0_col3{\n",
              "            text-align:  center;\n",
              "            width:  10em;\n",
              "             height:  80%;\n",
              "            background:  linear-gradient(90deg,#aadbaa 79.0%, transparent 79.0%);\n",
              "            color:  #251e1b;\n",
              "            font-size:  12px;\n",
              "        }#T_356cec52_7d6d_11ec_9e41_0242ac1c0002row0_col4,#T_356cec52_7d6d_11ec_9e41_0242ac1c0002row0_col5,#T_356cec52_7d6d_11ec_9e41_0242ac1c0002row0_col6,#T_356cec52_7d6d_11ec_9e41_0242ac1c0002row0_col7,#T_356cec52_7d6d_11ec_9e41_0242ac1c0002row0_col8,#T_356cec52_7d6d_11ec_9e41_0242ac1c0002row0_col9,#T_356cec52_7d6d_11ec_9e41_0242ac1c0002row0_col10,#T_356cec52_7d6d_11ec_9e41_0242ac1c0002row0_col11,#T_356cec52_7d6d_11ec_9e41_0242ac1c0002row0_col12,#T_356cec52_7d6d_11ec_9e41_0242ac1c0002row0_col13,#T_356cec52_7d6d_11ec_9e41_0242ac1c0002row0_col14,#T_356cec52_7d6d_11ec_9e41_0242ac1c0002row0_col15,#T_356cec52_7d6d_11ec_9e41_0242ac1c0002row0_col16,#T_356cec52_7d6d_11ec_9e41_0242ac1c0002row0_col17,#T_356cec52_7d6d_11ec_9e41_0242ac1c0002row1_col4,#T_356cec52_7d6d_11ec_9e41_0242ac1c0002row1_col5,#T_356cec52_7d6d_11ec_9e41_0242ac1c0002row1_col6,#T_356cec52_7d6d_11ec_9e41_0242ac1c0002row1_col7,#T_356cec52_7d6d_11ec_9e41_0242ac1c0002row1_col8,#T_356cec52_7d6d_11ec_9e41_0242ac1c0002row1_col9,#T_356cec52_7d6d_11ec_9e41_0242ac1c0002row1_col10,#T_356cec52_7d6d_11ec_9e41_0242ac1c0002row1_col11,#T_356cec52_7d6d_11ec_9e41_0242ac1c0002row1_col12,#T_356cec52_7d6d_11ec_9e41_0242ac1c0002row1_col13,#T_356cec52_7d6d_11ec_9e41_0242ac1c0002row1_col14,#T_356cec52_7d6d_11ec_9e41_0242ac1c0002row1_col15,#T_356cec52_7d6d_11ec_9e41_0242ac1c0002row1_col16,#T_356cec52_7d6d_11ec_9e41_0242ac1c0002row1_col17,#T_356cec52_7d6d_11ec_9e41_0242ac1c0002row2_col4,#T_356cec52_7d6d_11ec_9e41_0242ac1c0002row2_col5,#T_356cec52_7d6d_11ec_9e41_0242ac1c0002row2_col6,#T_356cec52_7d6d_11ec_9e41_0242ac1c0002row2_col7,#T_356cec52_7d6d_11ec_9e41_0242ac1c0002row2_col8,#T_356cec52_7d6d_11ec_9e41_0242ac1c0002row2_col9,#T_356cec52_7d6d_11ec_9e41_0242ac1c0002row2_col10,#T_356cec52_7d6d_11ec_9e41_0242ac1c0002row2_col11,#T_356cec52_7d6d_11ec_9e41_0242ac1c0002row2_col12,#T_356cec52_7d6d_11ec_9e41_0242ac1c0002row2_col13,#T_356cec52_7d6d_11ec_9e41_0242ac1c0002row2_col14,#T_356cec52_7d6d_11ec_9e41_0242ac1c0002row2_col15,#T_356cec52_7d6d_11ec_9e41_0242ac1c0002row2_col16,#T_356cec52_7d6d_11ec_9e41_0242ac1c0002row2_col17,#T_356cec52_7d6d_11ec_9e41_0242ac1c0002row3_col4,#T_356cec52_7d6d_11ec_9e41_0242ac1c0002row3_col5,#T_356cec52_7d6d_11ec_9e41_0242ac1c0002row3_col6,#T_356cec52_7d6d_11ec_9e41_0242ac1c0002row3_col7,#T_356cec52_7d6d_11ec_9e41_0242ac1c0002row3_col8,#T_356cec52_7d6d_11ec_9e41_0242ac1c0002row3_col9,#T_356cec52_7d6d_11ec_9e41_0242ac1c0002row3_col10,#T_356cec52_7d6d_11ec_9e41_0242ac1c0002row3_col11,#T_356cec52_7d6d_11ec_9e41_0242ac1c0002row3_col12,#T_356cec52_7d6d_11ec_9e41_0242ac1c0002row3_col13,#T_356cec52_7d6d_11ec_9e41_0242ac1c0002row3_col14,#T_356cec52_7d6d_11ec_9e41_0242ac1c0002row3_col15,#T_356cec52_7d6d_11ec_9e41_0242ac1c0002row3_col16,#T_356cec52_7d6d_11ec_9e41_0242ac1c0002row3_col17,#T_356cec52_7d6d_11ec_9e41_0242ac1c0002row4_col4,#T_356cec52_7d6d_11ec_9e41_0242ac1c0002row4_col5,#T_356cec52_7d6d_11ec_9e41_0242ac1c0002row4_col6,#T_356cec52_7d6d_11ec_9e41_0242ac1c0002row4_col7,#T_356cec52_7d6d_11ec_9e41_0242ac1c0002row4_col8,#T_356cec52_7d6d_11ec_9e41_0242ac1c0002row4_col9,#T_356cec52_7d6d_11ec_9e41_0242ac1c0002row4_col10,#T_356cec52_7d6d_11ec_9e41_0242ac1c0002row4_col11,#T_356cec52_7d6d_11ec_9e41_0242ac1c0002row4_col12,#T_356cec52_7d6d_11ec_9e41_0242ac1c0002row4_col13,#T_356cec52_7d6d_11ec_9e41_0242ac1c0002row4_col14,#T_356cec52_7d6d_11ec_9e41_0242ac1c0002row4_col15,#T_356cec52_7d6d_11ec_9e41_0242ac1c0002row4_col16,#T_356cec52_7d6d_11ec_9e41_0242ac1c0002row4_col17,#T_356cec52_7d6d_11ec_9e41_0242ac1c0002row5_col4,#T_356cec52_7d6d_11ec_9e41_0242ac1c0002row5_col5,#T_356cec52_7d6d_11ec_9e41_0242ac1c0002row5_col6,#T_356cec52_7d6d_11ec_9e41_0242ac1c0002row5_col7,#T_356cec52_7d6d_11ec_9e41_0242ac1c0002row5_col8,#T_356cec52_7d6d_11ec_9e41_0242ac1c0002row5_col9,#T_356cec52_7d6d_11ec_9e41_0242ac1c0002row5_col10,#T_356cec52_7d6d_11ec_9e41_0242ac1c0002row5_col11,#T_356cec52_7d6d_11ec_9e41_0242ac1c0002row5_col12,#T_356cec52_7d6d_11ec_9e41_0242ac1c0002row5_col13,#T_356cec52_7d6d_11ec_9e41_0242ac1c0002row5_col14,#T_356cec52_7d6d_11ec_9e41_0242ac1c0002row5_col15,#T_356cec52_7d6d_11ec_9e41_0242ac1c0002row5_col16,#T_356cec52_7d6d_11ec_9e41_0242ac1c0002row5_col17,#T_356cec52_7d6d_11ec_9e41_0242ac1c0002row6_col4,#T_356cec52_7d6d_11ec_9e41_0242ac1c0002row6_col5,#T_356cec52_7d6d_11ec_9e41_0242ac1c0002row6_col6,#T_356cec52_7d6d_11ec_9e41_0242ac1c0002row6_col7,#T_356cec52_7d6d_11ec_9e41_0242ac1c0002row6_col8,#T_356cec52_7d6d_11ec_9e41_0242ac1c0002row6_col9,#T_356cec52_7d6d_11ec_9e41_0242ac1c0002row6_col10,#T_356cec52_7d6d_11ec_9e41_0242ac1c0002row6_col11,#T_356cec52_7d6d_11ec_9e41_0242ac1c0002row6_col12,#T_356cec52_7d6d_11ec_9e41_0242ac1c0002row6_col13,#T_356cec52_7d6d_11ec_9e41_0242ac1c0002row6_col14,#T_356cec52_7d6d_11ec_9e41_0242ac1c0002row6_col15,#T_356cec52_7d6d_11ec_9e41_0242ac1c0002row6_col16,#T_356cec52_7d6d_11ec_9e41_0242ac1c0002row6_col17,#T_356cec52_7d6d_11ec_9e41_0242ac1c0002row7_col4,#T_356cec52_7d6d_11ec_9e41_0242ac1c0002row7_col5,#T_356cec52_7d6d_11ec_9e41_0242ac1c0002row7_col6,#T_356cec52_7d6d_11ec_9e41_0242ac1c0002row7_col7,#T_356cec52_7d6d_11ec_9e41_0242ac1c0002row7_col8,#T_356cec52_7d6d_11ec_9e41_0242ac1c0002row7_col9,#T_356cec52_7d6d_11ec_9e41_0242ac1c0002row7_col10,#T_356cec52_7d6d_11ec_9e41_0242ac1c0002row7_col11,#T_356cec52_7d6d_11ec_9e41_0242ac1c0002row7_col12,#T_356cec52_7d6d_11ec_9e41_0242ac1c0002row7_col13,#T_356cec52_7d6d_11ec_9e41_0242ac1c0002row7_col14,#T_356cec52_7d6d_11ec_9e41_0242ac1c0002row7_col15,#T_356cec52_7d6d_11ec_9e41_0242ac1c0002row7_col16,#T_356cec52_7d6d_11ec_9e41_0242ac1c0002row7_col17,#T_356cec52_7d6d_11ec_9e41_0242ac1c0002row8_col4,#T_356cec52_7d6d_11ec_9e41_0242ac1c0002row8_col5,#T_356cec52_7d6d_11ec_9e41_0242ac1c0002row8_col6,#T_356cec52_7d6d_11ec_9e41_0242ac1c0002row8_col7,#T_356cec52_7d6d_11ec_9e41_0242ac1c0002row8_col8,#T_356cec52_7d6d_11ec_9e41_0242ac1c0002row8_col9,#T_356cec52_7d6d_11ec_9e41_0242ac1c0002row8_col10,#T_356cec52_7d6d_11ec_9e41_0242ac1c0002row8_col11,#T_356cec52_7d6d_11ec_9e41_0242ac1c0002row8_col12,#T_356cec52_7d6d_11ec_9e41_0242ac1c0002row8_col13,#T_356cec52_7d6d_11ec_9e41_0242ac1c0002row8_col14,#T_356cec52_7d6d_11ec_9e41_0242ac1c0002row8_col15,#T_356cec52_7d6d_11ec_9e41_0242ac1c0002row8_col16,#T_356cec52_7d6d_11ec_9e41_0242ac1c0002row8_col17,#T_356cec52_7d6d_11ec_9e41_0242ac1c0002row9_col4,#T_356cec52_7d6d_11ec_9e41_0242ac1c0002row9_col5,#T_356cec52_7d6d_11ec_9e41_0242ac1c0002row9_col6,#T_356cec52_7d6d_11ec_9e41_0242ac1c0002row9_col7,#T_356cec52_7d6d_11ec_9e41_0242ac1c0002row9_col8,#T_356cec52_7d6d_11ec_9e41_0242ac1c0002row9_col9,#T_356cec52_7d6d_11ec_9e41_0242ac1c0002row9_col10,#T_356cec52_7d6d_11ec_9e41_0242ac1c0002row9_col11,#T_356cec52_7d6d_11ec_9e41_0242ac1c0002row9_col12,#T_356cec52_7d6d_11ec_9e41_0242ac1c0002row9_col13,#T_356cec52_7d6d_11ec_9e41_0242ac1c0002row9_col14,#T_356cec52_7d6d_11ec_9e41_0242ac1c0002row9_col15,#T_356cec52_7d6d_11ec_9e41_0242ac1c0002row9_col16,#T_356cec52_7d6d_11ec_9e41_0242ac1c0002row9_col17,#T_356cec52_7d6d_11ec_9e41_0242ac1c0002row10_col4,#T_356cec52_7d6d_11ec_9e41_0242ac1c0002row10_col5,#T_356cec52_7d6d_11ec_9e41_0242ac1c0002row10_col6,#T_356cec52_7d6d_11ec_9e41_0242ac1c0002row10_col7,#T_356cec52_7d6d_11ec_9e41_0242ac1c0002row10_col8,#T_356cec52_7d6d_11ec_9e41_0242ac1c0002row10_col9,#T_356cec52_7d6d_11ec_9e41_0242ac1c0002row10_col10,#T_356cec52_7d6d_11ec_9e41_0242ac1c0002row10_col11,#T_356cec52_7d6d_11ec_9e41_0242ac1c0002row10_col12,#T_356cec52_7d6d_11ec_9e41_0242ac1c0002row10_col13,#T_356cec52_7d6d_11ec_9e41_0242ac1c0002row10_col14,#T_356cec52_7d6d_11ec_9e41_0242ac1c0002row10_col15,#T_356cec52_7d6d_11ec_9e41_0242ac1c0002row10_col16,#T_356cec52_7d6d_11ec_9e41_0242ac1c0002row10_col17,#T_356cec52_7d6d_11ec_9e41_0242ac1c0002row11_col4,#T_356cec52_7d6d_11ec_9e41_0242ac1c0002row11_col5,#T_356cec52_7d6d_11ec_9e41_0242ac1c0002row11_col6,#T_356cec52_7d6d_11ec_9e41_0242ac1c0002row11_col7,#T_356cec52_7d6d_11ec_9e41_0242ac1c0002row11_col8,#T_356cec52_7d6d_11ec_9e41_0242ac1c0002row11_col9,#T_356cec52_7d6d_11ec_9e41_0242ac1c0002row11_col10,#T_356cec52_7d6d_11ec_9e41_0242ac1c0002row11_col11,#T_356cec52_7d6d_11ec_9e41_0242ac1c0002row11_col12,#T_356cec52_7d6d_11ec_9e41_0242ac1c0002row11_col13,#T_356cec52_7d6d_11ec_9e41_0242ac1c0002row11_col14,#T_356cec52_7d6d_11ec_9e41_0242ac1c0002row11_col15,#T_356cec52_7d6d_11ec_9e41_0242ac1c0002row11_col16,#T_356cec52_7d6d_11ec_9e41_0242ac1c0002row11_col17,#T_356cec52_7d6d_11ec_9e41_0242ac1c0002row12_col4,#T_356cec52_7d6d_11ec_9e41_0242ac1c0002row12_col5,#T_356cec52_7d6d_11ec_9e41_0242ac1c0002row12_col6,#T_356cec52_7d6d_11ec_9e41_0242ac1c0002row12_col7,#T_356cec52_7d6d_11ec_9e41_0242ac1c0002row12_col8,#T_356cec52_7d6d_11ec_9e41_0242ac1c0002row12_col9,#T_356cec52_7d6d_11ec_9e41_0242ac1c0002row12_col10,#T_356cec52_7d6d_11ec_9e41_0242ac1c0002row12_col11,#T_356cec52_7d6d_11ec_9e41_0242ac1c0002row12_col12,#T_356cec52_7d6d_11ec_9e41_0242ac1c0002row12_col13,#T_356cec52_7d6d_11ec_9e41_0242ac1c0002row12_col14,#T_356cec52_7d6d_11ec_9e41_0242ac1c0002row12_col15,#T_356cec52_7d6d_11ec_9e41_0242ac1c0002row12_col16,#T_356cec52_7d6d_11ec_9e41_0242ac1c0002row12_col17{\n",
              "            text-align:  center;\n",
              "        }#T_356cec52_7d6d_11ec_9e41_0242ac1c0002row1_col0{\n",
              "            text-align:  center;\n",
              "            width:  10em;\n",
              "             height:  80%;\n",
              "            background:  linear-gradient(90deg,#f5f8d6 80.5%, transparent 80.5%);\n",
              "            color:  #251e1b;\n",
              "            font-size:  12px;\n",
              "        }#T_356cec52_7d6d_11ec_9e41_0242ac1c0002row1_col1{\n",
              "            text-align:  center;\n",
              "            width:  10em;\n",
              "             height:  80%;\n",
              "            background:  linear-gradient(90deg,#c778c8 78.5%, transparent 78.5%);\n",
              "            color:  #251e1b;\n",
              "            font-size:  12px;\n",
              "        }#T_356cec52_7d6d_11ec_9e41_0242ac1c0002row1_col2{\n",
              "            text-align:  center;\n",
              "            width:  10em;\n",
              "             height:  80%;\n",
              "            background:  linear-gradient(90deg,#ff4971 79.5%, transparent 79.5%);\n",
              "            color:  #251e1b;\n",
              "            font-size:  12px;\n",
              "        }#T_356cec52_7d6d_11ec_9e41_0242ac1c0002row1_col3{\n",
              "            text-align:  center;\n",
              "            width:  10em;\n",
              "             height:  80%;\n",
              "            background:  linear-gradient(90deg,#aadbaa 77.8%, transparent 77.8%);\n",
              "            color:  #251e1b;\n",
              "            font-size:  12px;\n",
              "        }#T_356cec52_7d6d_11ec_9e41_0242ac1c0002row2_col0{\n",
              "            text-align:  center;\n",
              "            width:  10em;\n",
              "             height:  80%;\n",
              "            background:  linear-gradient(90deg,#f5f8d6 80.2%, transparent 80.2%);\n",
              "            color:  #251e1b;\n",
              "            font-size:  12px;\n",
              "        }#T_356cec52_7d6d_11ec_9e41_0242ac1c0002row2_col1{\n",
              "            text-align:  center;\n",
              "            width:  10em;\n",
              "             height:  80%;\n",
              "            background:  linear-gradient(90deg,#c778c8 78.2%, transparent 78.2%);\n",
              "            color:  #251e1b;\n",
              "            font-size:  12px;\n",
              "        }#T_356cec52_7d6d_11ec_9e41_0242ac1c0002row2_col2{\n",
              "            text-align:  center;\n",
              "            width:  10em;\n",
              "             height:  80%;\n",
              "            background:  linear-gradient(90deg,#ff4971 78.9%, transparent 78.9%);\n",
              "            color:  #251e1b;\n",
              "            font-size:  12px;\n",
              "        }#T_356cec52_7d6d_11ec_9e41_0242ac1c0002row2_col3{\n",
              "            text-align:  center;\n",
              "            width:  10em;\n",
              "             height:  80%;\n",
              "            background:  linear-gradient(90deg,#aadbaa 77.7%, transparent 77.7%);\n",
              "            color:  #251e1b;\n",
              "            font-size:  12px;\n",
              "        }#T_356cec52_7d6d_11ec_9e41_0242ac1c0002row3_col0,#T_356cec52_7d6d_11ec_9e41_0242ac1c0002row4_col0{\n",
              "            text-align:  center;\n",
              "            width:  10em;\n",
              "             height:  80%;\n",
              "            background:  linear-gradient(90deg,#f5f8d6 79.0%, transparent 79.0%);\n",
              "            color:  #251e1b;\n",
              "            font-size:  12px;\n",
              "        }#T_356cec52_7d6d_11ec_9e41_0242ac1c0002row3_col1,#T_356cec52_7d6d_11ec_9e41_0242ac1c0002row4_col1{\n",
              "            text-align:  center;\n",
              "            width:  10em;\n",
              "             height:  80%;\n",
              "            background:  linear-gradient(90deg,#c778c8 77.4%, transparent 77.4%);\n",
              "            color:  #251e1b;\n",
              "            font-size:  12px;\n",
              "        }#T_356cec52_7d6d_11ec_9e41_0242ac1c0002row3_col2,#T_356cec52_7d6d_11ec_9e41_0242ac1c0002row4_col2{\n",
              "            text-align:  center;\n",
              "            width:  10em;\n",
              "             height:  80%;\n",
              "            background:  linear-gradient(90deg,#ff4971 77.4%, transparent 77.4%);\n",
              "            color:  #251e1b;\n",
              "            font-size:  12px;\n",
              "        }#T_356cec52_7d6d_11ec_9e41_0242ac1c0002row3_col3,#T_356cec52_7d6d_11ec_9e41_0242ac1c0002row4_col3{\n",
              "            text-align:  center;\n",
              "            width:  10em;\n",
              "             height:  80%;\n",
              "            background:  linear-gradient(90deg,#aadbaa 77.5%, transparent 77.5%);\n",
              "            color:  #251e1b;\n",
              "            font-size:  12px;\n",
              "        }#T_356cec52_7d6d_11ec_9e41_0242ac1c0002row5_col0,#T_356cec52_7d6d_11ec_9e41_0242ac1c0002row6_col0{\n",
              "            text-align:  center;\n",
              "            width:  10em;\n",
              "             height:  80%;\n",
              "            background:  linear-gradient(90deg,#f5f8d6 76.3%, transparent 76.3%);\n",
              "            color:  #251e1b;\n",
              "            font-size:  12px;\n",
              "        }#T_356cec52_7d6d_11ec_9e41_0242ac1c0002row5_col1,#T_356cec52_7d6d_11ec_9e41_0242ac1c0002row6_col1{\n",
              "            text-align:  center;\n",
              "            width:  10em;\n",
              "             height:  80%;\n",
              "            background:  linear-gradient(90deg,#c778c8 72.5%, transparent 72.5%);\n",
              "            color:  #251e1b;\n",
              "            font-size:  12px;\n",
              "        }#T_356cec52_7d6d_11ec_9e41_0242ac1c0002row5_col2,#T_356cec52_7d6d_11ec_9e41_0242ac1c0002row6_col2{\n",
              "            text-align:  center;\n",
              "            width:  10em;\n",
              "             height:  80%;\n",
              "            background:  linear-gradient(90deg,#ff4971 75.9%, transparent 75.9%);\n",
              "            color:  #251e1b;\n",
              "            font-size:  12px;\n",
              "        }#T_356cec52_7d6d_11ec_9e41_0242ac1c0002row5_col3,#T_356cec52_7d6d_11ec_9e41_0242ac1c0002row6_col3{\n",
              "            text-align:  center;\n",
              "            width:  10em;\n",
              "             height:  80%;\n",
              "            background:  linear-gradient(90deg,#aadbaa 71.4%, transparent 71.4%);\n",
              "            color:  #251e1b;\n",
              "            font-size:  12px;\n",
              "        }#T_356cec52_7d6d_11ec_9e41_0242ac1c0002row7_col0{\n",
              "            text-align:  center;\n",
              "            width:  10em;\n",
              "             height:  80%;\n",
              "            background:  linear-gradient(90deg,#f5f8d6 66.8%, transparent 66.8%);\n",
              "            color:  #251e1b;\n",
              "            font-size:  12px;\n",
              "        }#T_356cec52_7d6d_11ec_9e41_0242ac1c0002row7_col1{\n",
              "            text-align:  center;\n",
              "            width:  10em;\n",
              "             height:  80%;\n",
              "            background:  linear-gradient(90deg,#c778c8 48.2%, transparent 48.2%);\n",
              "            color:  #251e1b;\n",
              "            font-size:  12px;\n",
              "        }#T_356cec52_7d6d_11ec_9e41_0242ac1c0002row7_col2{\n",
              "            text-align:  center;\n",
              "            width:  10em;\n",
              "             height:  80%;\n",
              "            background:  linear-gradient(90deg,#ff4971 82.8%, transparent 82.8%);\n",
              "            color:  #251e1b;\n",
              "            font-size:  12px;\n",
              "        }#T_356cec52_7d6d_11ec_9e41_0242ac1c0002row7_col3{\n",
              "            text-align:  center;\n",
              "            width:  10em;\n",
              "             height:  80%;\n",
              "            background:  linear-gradient(90deg,#aadbaa 54.7%, transparent 54.7%);\n",
              "            color:  #251e1b;\n",
              "            font-size:  12px;\n",
              "        }#T_356cec52_7d6d_11ec_9e41_0242ac1c0002row8_col0{\n",
              "            text-align:  center;\n",
              "            width:  10em;\n",
              "             height:  80%;\n",
              "            background:  linear-gradient(90deg,#f5f8d6 65.3%, transparent 65.3%);\n",
              "            color:  #251e1b;\n",
              "            font-size:  12px;\n",
              "        }#T_356cec52_7d6d_11ec_9e41_0242ac1c0002row8_col1{\n",
              "            text-align:  center;\n",
              "            width:  10em;\n",
              "             height:  80%;\n",
              "            background:  linear-gradient(90deg,#c778c8 45.8%, transparent 45.8%);\n",
              "            color:  #251e1b;\n",
              "            font-size:  12px;\n",
              "        }#T_356cec52_7d6d_11ec_9e41_0242ac1c0002row8_col2{\n",
              "            text-align:  center;\n",
              "            width:  10em;\n",
              "             height:  80%;\n",
              "            background:  linear-gradient(90deg,#ff4971 71.3%, transparent 71.3%);\n",
              "            color:  #251e1b;\n",
              "            font-size:  12px;\n",
              "        }#T_356cec52_7d6d_11ec_9e41_0242ac1c0002row8_col3{\n",
              "            text-align:  center;\n",
              "            width:  10em;\n",
              "             height:  80%;\n",
              "            background:  linear-gradient(90deg,#aadbaa 53.0%, transparent 53.0%);\n",
              "            color:  #251e1b;\n",
              "            font-size:  12px;\n",
              "        }#T_356cec52_7d6d_11ec_9e41_0242ac1c0002row9_col0,#T_356cec52_7d6d_11ec_9e41_0242ac1c0002row10_col0{\n",
              "            text-align:  center;\n",
              "            width:  10em;\n",
              "             height:  80%;\n",
              "            background:  linear-gradient(90deg,#f5f8d6 55.3%, transparent 55.3%);\n",
              "            color:  #251e1b;\n",
              "            font-size:  12px;\n",
              "        }#T_356cec52_7d6d_11ec_9e41_0242ac1c0002row9_col1,#T_356cec52_7d6d_11ec_9e41_0242ac1c0002row10_col1{\n",
              "            text-align:  center;\n",
              "            width:  10em;\n",
              "             height:  80%;\n",
              "            background:  linear-gradient(90deg,#c778c8 51.6%, transparent 51.6%);\n",
              "            color:  #251e1b;\n",
              "            font-size:  12px;\n",
              "        }#T_356cec52_7d6d_11ec_9e41_0242ac1c0002row9_col2,#T_356cec52_7d6d_11ec_9e41_0242ac1c0002row10_col2{\n",
              "            text-align:  center;\n",
              "            width:  10em;\n",
              "             height:  80%;\n",
              "            background:  linear-gradient(90deg,#ff4971 51.6%, transparent 51.6%);\n",
              "            color:  #251e1b;\n",
              "            font-size:  12px;\n",
              "        }#T_356cec52_7d6d_11ec_9e41_0242ac1c0002row9_col3,#T_356cec52_7d6d_11ec_9e41_0242ac1c0002row10_col3{\n",
              "            text-align:  center;\n",
              "            width:  10em;\n",
              "             height:  80%;\n",
              "            background:  linear-gradient(90deg,#aadbaa 51.6%, transparent 51.6%);\n",
              "            color:  #251e1b;\n",
              "            font-size:  12px;\n",
              "        }#T_356cec52_7d6d_11ec_9e41_0242ac1c0002row11_col0,#T_356cec52_7d6d_11ec_9e41_0242ac1c0002row12_col0{\n",
              "            text-align:  center;\n",
              "            width:  10em;\n",
              "             height:  80%;\n",
              "            background:  linear-gradient(90deg,#f5f8d6 49.2%, transparent 49.2%);\n",
              "            color:  #251e1b;\n",
              "            font-size:  12px;\n",
              "        }#T_356cec52_7d6d_11ec_9e41_0242ac1c0002row11_col1,#T_356cec52_7d6d_11ec_9e41_0242ac1c0002row12_col1{\n",
              "            text-align:  center;\n",
              "            width:  10em;\n",
              "             height:  80%;\n",
              "            background:  linear-gradient(90deg,#c778c8 43.9%, transparent 43.9%);\n",
              "            color:  #251e1b;\n",
              "            font-size:  12px;\n",
              "        }#T_356cec52_7d6d_11ec_9e41_0242ac1c0002row11_col2,#T_356cec52_7d6d_11ec_9e41_0242ac1c0002row12_col2{\n",
              "            text-align:  center;\n",
              "            width:  10em;\n",
              "             height:  80%;\n",
              "            background:  linear-gradient(90deg,#ff4971 43.8%, transparent 43.8%);\n",
              "            color:  #251e1b;\n",
              "            font-size:  12px;\n",
              "        }#T_356cec52_7d6d_11ec_9e41_0242ac1c0002row11_col3,#T_356cec52_7d6d_11ec_9e41_0242ac1c0002row12_col3{\n",
              "            text-align:  center;\n",
              "            width:  10em;\n",
              "             height:  80%;\n",
              "            background:  linear-gradient(90deg,#aadbaa 44.1%, transparent 44.1%);\n",
              "            color:  #251e1b;\n",
              "            font-size:  12px;\n",
              "        }</style><table id=\"T_356cec52_7d6d_11ec_9e41_0242ac1c0002\" class=\"dataframe\"><thead>    <tr>        <th class=\"blank level0\" ></th>        <th class=\"col_heading level0 col0\" >accuracy</th>        <th class=\"col_heading level0 col1\" >f1_score</th>        <th class=\"col_heading level0 col2\" >precision</th>        <th class=\"col_heading level0 col3\" >recall</th>        <th class=\"col_heading level0 col4\" >ml_framework</th>        <th class=\"col_heading level0 col5\" >deep_learning</th>        <th class=\"col_heading level0 col6\" >model_type</th>        <th class=\"col_heading level0 col7\" >depth</th>        <th class=\"col_heading level0 col8\" >num_params</th>        <th class=\"col_heading level0 col9\" >dense_layers</th>        <th class=\"col_heading level0 col10\" >dropout_layers</th>        <th class=\"col_heading level0 col11\" >softmax_act</th>        <th class=\"col_heading level0 col12\" >relu_act</th>        <th class=\"col_heading level0 col13\" >loss</th>        <th class=\"col_heading level0 col14\" >optimizer</th>        <th class=\"col_heading level0 col15\" >model_config</th>        <th class=\"col_heading level0 col16\" >username</th>        <th class=\"col_heading level0 col17\" >version</th>    </tr></thead><tbody>\n",
              "                <tr>\n",
              "                        <th id=\"T_356cec52_7d6d_11ec_9e41_0242ac1c0002level0_row0\" class=\"row_heading level0 row0\" >0</th>\n",
              "                        <td id=\"T_356cec52_7d6d_11ec_9e41_0242ac1c0002row0_col0\" class=\"data row0 col0\" >82.82%</td>\n",
              "                        <td id=\"T_356cec52_7d6d_11ec_9e41_0242ac1c0002row0_col1\" class=\"data row0 col1\" >80.35%</td>\n",
              "                        <td id=\"T_356cec52_7d6d_11ec_9e41_0242ac1c0002row0_col2\" class=\"data row0 col2\" >83.47%</td>\n",
              "                        <td id=\"T_356cec52_7d6d_11ec_9e41_0242ac1c0002row0_col3\" class=\"data row0 col3\" >78.98%</td>\n",
              "                        <td id=\"T_356cec52_7d6d_11ec_9e41_0242ac1c0002row0_col4\" class=\"data row0 col4\" >sklearn</td>\n",
              "                        <td id=\"T_356cec52_7d6d_11ec_9e41_0242ac1c0002row0_col5\" class=\"data row0 col5\" >False</td>\n",
              "                        <td id=\"T_356cec52_7d6d_11ec_9e41_0242ac1c0002row0_col6\" class=\"data row0 col6\" >RandomForestClassifier</td>\n",
              "                        <td id=\"T_356cec52_7d6d_11ec_9e41_0242ac1c0002row0_col7\" class=\"data row0 col7\" >nan</td>\n",
              "                        <td id=\"T_356cec52_7d6d_11ec_9e41_0242ac1c0002row0_col8\" class=\"data row0 col8\" >nan</td>\n",
              "                        <td id=\"T_356cec52_7d6d_11ec_9e41_0242ac1c0002row0_col9\" class=\"data row0 col9\" >nan</td>\n",
              "                        <td id=\"T_356cec52_7d6d_11ec_9e41_0242ac1c0002row0_col10\" class=\"data row0 col10\" >nan</td>\n",
              "                        <td id=\"T_356cec52_7d6d_11ec_9e41_0242ac1c0002row0_col11\" class=\"data row0 col11\" >nan</td>\n",
              "                        <td id=\"T_356cec52_7d6d_11ec_9e41_0242ac1c0002row0_col12\" class=\"data row0 col12\" >nan</td>\n",
              "                        <td id=\"T_356cec52_7d6d_11ec_9e41_0242ac1c0002row0_col13\" class=\"data row0 col13\" >nan</td>\n",
              "                        <td id=\"T_356cec52_7d6d_11ec_9e41_0242ac1c0002row0_col14\" class=\"data row0 col14\" >nan</td>\n",
              "                        <td id=\"T_356cec52_7d6d_11ec_9e41_0242ac1c0002row0_col15\" class=\"data row0 col15\" >{'bootstrap': True, 'ccp_alpha...</td>\n",
              "                        <td id=\"T_356cec52_7d6d_11ec_9e41_0242ac1c0002row0_col16\" class=\"data row0 col16\" >AdvProjectsinML</td>\n",
              "                        <td id=\"T_356cec52_7d6d_11ec_9e41_0242ac1c0002row0_col17\" class=\"data row0 col17\" >5</td>\n",
              "            </tr>\n",
              "            <tr>\n",
              "                        <th id=\"T_356cec52_7d6d_11ec_9e41_0242ac1c0002level0_row1\" class=\"row_heading level0 row1\" >1</th>\n",
              "                        <td id=\"T_356cec52_7d6d_11ec_9e41_0242ac1c0002row1_col0\" class=\"data row1 col0\" >80.53%</td>\n",
              "                        <td id=\"T_356cec52_7d6d_11ec_9e41_0242ac1c0002row1_col1\" class=\"data row1 col1\" >78.48%</td>\n",
              "                        <td id=\"T_356cec52_7d6d_11ec_9e41_0242ac1c0002row1_col2\" class=\"data row1 col2\" >79.48%</td>\n",
              "                        <td id=\"T_356cec52_7d6d_11ec_9e41_0242ac1c0002row1_col3\" class=\"data row1 col3\" >77.83%</td>\n",
              "                        <td id=\"T_356cec52_7d6d_11ec_9e41_0242ac1c0002row1_col4\" class=\"data row1 col4\" >keras</td>\n",
              "                        <td id=\"T_356cec52_7d6d_11ec_9e41_0242ac1c0002row1_col5\" class=\"data row1 col5\" >True</td>\n",
              "                        <td id=\"T_356cec52_7d6d_11ec_9e41_0242ac1c0002row1_col6\" class=\"data row1 col6\" >Sequential</td>\n",
              "                        <td id=\"T_356cec52_7d6d_11ec_9e41_0242ac1c0002row1_col7\" class=\"data row1 col7\" >4.000000</td>\n",
              "                        <td id=\"T_356cec52_7d6d_11ec_9e41_0242ac1c0002row1_col8\" class=\"data row1 col8\" >24162.000000</td>\n",
              "                        <td id=\"T_356cec52_7d6d_11ec_9e41_0242ac1c0002row1_col9\" class=\"data row1 col9\" >4.000000</td>\n",
              "                        <td id=\"T_356cec52_7d6d_11ec_9e41_0242ac1c0002row1_col10\" class=\"data row1 col10\" >nan</td>\n",
              "                        <td id=\"T_356cec52_7d6d_11ec_9e41_0242ac1c0002row1_col11\" class=\"data row1 col11\" >1.000000</td>\n",
              "                        <td id=\"T_356cec52_7d6d_11ec_9e41_0242ac1c0002row1_col12\" class=\"data row1 col12\" >3.000000</td>\n",
              "                        <td id=\"T_356cec52_7d6d_11ec_9e41_0242ac1c0002row1_col13\" class=\"data row1 col13\" >str</td>\n",
              "                        <td id=\"T_356cec52_7d6d_11ec_9e41_0242ac1c0002row1_col14\" class=\"data row1 col14\" >RMSprop</td>\n",
              "                        <td id=\"T_356cec52_7d6d_11ec_9e41_0242ac1c0002row1_col15\" class=\"data row1 col15\" >{'name': 'sequential_1', 'laye...</td>\n",
              "                        <td id=\"T_356cec52_7d6d_11ec_9e41_0242ac1c0002row1_col16\" class=\"data row1 col16\" >AdvProjectsinML</td>\n",
              "                        <td id=\"T_356cec52_7d6d_11ec_9e41_0242ac1c0002row1_col17\" class=\"data row1 col17\" >9</td>\n",
              "            </tr>\n",
              "            <tr>\n",
              "                        <th id=\"T_356cec52_7d6d_11ec_9e41_0242ac1c0002level0_row2\" class=\"row_heading level0 row2\" >2</th>\n",
              "                        <td id=\"T_356cec52_7d6d_11ec_9e41_0242ac1c0002row2_col0\" class=\"data row2 col0\" >80.15%</td>\n",
              "                        <td id=\"T_356cec52_7d6d_11ec_9e41_0242ac1c0002row2_col1\" class=\"data row2 col1\" >78.22%</td>\n",
              "                        <td id=\"T_356cec52_7d6d_11ec_9e41_0242ac1c0002row2_col2\" class=\"data row2 col2\" >78.88%</td>\n",
              "                        <td id=\"T_356cec52_7d6d_11ec_9e41_0242ac1c0002row2_col3\" class=\"data row2 col3\" >77.75%</td>\n",
              "                        <td id=\"T_356cec52_7d6d_11ec_9e41_0242ac1c0002row2_col4\" class=\"data row2 col4\" >sklearn</td>\n",
              "                        <td id=\"T_356cec52_7d6d_11ec_9e41_0242ac1c0002row2_col5\" class=\"data row2 col5\" >False</td>\n",
              "                        <td id=\"T_356cec52_7d6d_11ec_9e41_0242ac1c0002row2_col6\" class=\"data row2 col6\" >GradientBoostingClassifier</td>\n",
              "                        <td id=\"T_356cec52_7d6d_11ec_9e41_0242ac1c0002row2_col7\" class=\"data row2 col7\" >nan</td>\n",
              "                        <td id=\"T_356cec52_7d6d_11ec_9e41_0242ac1c0002row2_col8\" class=\"data row2 col8\" >nan</td>\n",
              "                        <td id=\"T_356cec52_7d6d_11ec_9e41_0242ac1c0002row2_col9\" class=\"data row2 col9\" >nan</td>\n",
              "                        <td id=\"T_356cec52_7d6d_11ec_9e41_0242ac1c0002row2_col10\" class=\"data row2 col10\" >nan</td>\n",
              "                        <td id=\"T_356cec52_7d6d_11ec_9e41_0242ac1c0002row2_col11\" class=\"data row2 col11\" >nan</td>\n",
              "                        <td id=\"T_356cec52_7d6d_11ec_9e41_0242ac1c0002row2_col12\" class=\"data row2 col12\" >nan</td>\n",
              "                        <td id=\"T_356cec52_7d6d_11ec_9e41_0242ac1c0002row2_col13\" class=\"data row2 col13\" >nan</td>\n",
              "                        <td id=\"T_356cec52_7d6d_11ec_9e41_0242ac1c0002row2_col14\" class=\"data row2 col14\" >nan</td>\n",
              "                        <td id=\"T_356cec52_7d6d_11ec_9e41_0242ac1c0002row2_col15\" class=\"data row2 col15\" >{'ccp_alpha': 0.0, 'criterion'...</td>\n",
              "                        <td id=\"T_356cec52_7d6d_11ec_9e41_0242ac1c0002row2_col16\" class=\"data row2 col16\" >AdvProjectsinML</td>\n",
              "                        <td id=\"T_356cec52_7d6d_11ec_9e41_0242ac1c0002row2_col17\" class=\"data row2 col17\" >6</td>\n",
              "            </tr>\n",
              "            <tr>\n",
              "                        <th id=\"T_356cec52_7d6d_11ec_9e41_0242ac1c0002level0_row3\" class=\"row_heading level0 row3\" >3</th>\n",
              "                        <td id=\"T_356cec52_7d6d_11ec_9e41_0242ac1c0002row3_col0\" class=\"data row3 col0\" >79.01%</td>\n",
              "                        <td id=\"T_356cec52_7d6d_11ec_9e41_0242ac1c0002row3_col1\" class=\"data row3 col1\" >77.44%</td>\n",
              "                        <td id=\"T_356cec52_7d6d_11ec_9e41_0242ac1c0002row3_col2\" class=\"data row3 col2\" >77.39%</td>\n",
              "                        <td id=\"T_356cec52_7d6d_11ec_9e41_0242ac1c0002row3_col3\" class=\"data row3 col3\" >77.50%</td>\n",
              "                        <td id=\"T_356cec52_7d6d_11ec_9e41_0242ac1c0002row3_col4\" class=\"data row3 col4\" >sklearn</td>\n",
              "                        <td id=\"T_356cec52_7d6d_11ec_9e41_0242ac1c0002row3_col5\" class=\"data row3 col5\" >False</td>\n",
              "                        <td id=\"T_356cec52_7d6d_11ec_9e41_0242ac1c0002row3_col6\" class=\"data row3 col6\" >LogisticRegression</td>\n",
              "                        <td id=\"T_356cec52_7d6d_11ec_9e41_0242ac1c0002row3_col7\" class=\"data row3 col7\" >nan</td>\n",
              "                        <td id=\"T_356cec52_7d6d_11ec_9e41_0242ac1c0002row3_col8\" class=\"data row3 col8\" >10.000000</td>\n",
              "                        <td id=\"T_356cec52_7d6d_11ec_9e41_0242ac1c0002row3_col9\" class=\"data row3 col9\" >nan</td>\n",
              "                        <td id=\"T_356cec52_7d6d_11ec_9e41_0242ac1c0002row3_col10\" class=\"data row3 col10\" >nan</td>\n",
              "                        <td id=\"T_356cec52_7d6d_11ec_9e41_0242ac1c0002row3_col11\" class=\"data row3 col11\" >nan</td>\n",
              "                        <td id=\"T_356cec52_7d6d_11ec_9e41_0242ac1c0002row3_col12\" class=\"data row3 col12\" >nan</td>\n",
              "                        <td id=\"T_356cec52_7d6d_11ec_9e41_0242ac1c0002row3_col13\" class=\"data row3 col13\" >nan</td>\n",
              "                        <td id=\"T_356cec52_7d6d_11ec_9e41_0242ac1c0002row3_col14\" class=\"data row3 col14\" >liblinear</td>\n",
              "                        <td id=\"T_356cec52_7d6d_11ec_9e41_0242ac1c0002row3_col15\" class=\"data row3 col15\" >{'C': 10, 'class_weight': None...</td>\n",
              "                        <td id=\"T_356cec52_7d6d_11ec_9e41_0242ac1c0002row3_col16\" class=\"data row3 col16\" >AdvProjectsinML</td>\n",
              "                        <td id=\"T_356cec52_7d6d_11ec_9e41_0242ac1c0002row3_col17\" class=\"data row3 col17\" >1</td>\n",
              "            </tr>\n",
              "            <tr>\n",
              "                        <th id=\"T_356cec52_7d6d_11ec_9e41_0242ac1c0002level0_row4\" class=\"row_heading level0 row4\" >4</th>\n",
              "                        <td id=\"T_356cec52_7d6d_11ec_9e41_0242ac1c0002row4_col0\" class=\"data row4 col0\" >79.01%</td>\n",
              "                        <td id=\"T_356cec52_7d6d_11ec_9e41_0242ac1c0002row4_col1\" class=\"data row4 col1\" >77.44%</td>\n",
              "                        <td id=\"T_356cec52_7d6d_11ec_9e41_0242ac1c0002row4_col2\" class=\"data row4 col2\" >77.39%</td>\n",
              "                        <td id=\"T_356cec52_7d6d_11ec_9e41_0242ac1c0002row4_col3\" class=\"data row4 col3\" >77.50%</td>\n",
              "                        <td id=\"T_356cec52_7d6d_11ec_9e41_0242ac1c0002row4_col4\" class=\"data row4 col4\" >sklearn</td>\n",
              "                        <td id=\"T_356cec52_7d6d_11ec_9e41_0242ac1c0002row4_col5\" class=\"data row4 col5\" >False</td>\n",
              "                        <td id=\"T_356cec52_7d6d_11ec_9e41_0242ac1c0002row4_col6\" class=\"data row4 col6\" >LogisticRegression</td>\n",
              "                        <td id=\"T_356cec52_7d6d_11ec_9e41_0242ac1c0002row4_col7\" class=\"data row4 col7\" >nan</td>\n",
              "                        <td id=\"T_356cec52_7d6d_11ec_9e41_0242ac1c0002row4_col8\" class=\"data row4 col8\" >10.000000</td>\n",
              "                        <td id=\"T_356cec52_7d6d_11ec_9e41_0242ac1c0002row4_col9\" class=\"data row4 col9\" >nan</td>\n",
              "                        <td id=\"T_356cec52_7d6d_11ec_9e41_0242ac1c0002row4_col10\" class=\"data row4 col10\" >nan</td>\n",
              "                        <td id=\"T_356cec52_7d6d_11ec_9e41_0242ac1c0002row4_col11\" class=\"data row4 col11\" >nan</td>\n",
              "                        <td id=\"T_356cec52_7d6d_11ec_9e41_0242ac1c0002row4_col12\" class=\"data row4 col12\" >nan</td>\n",
              "                        <td id=\"T_356cec52_7d6d_11ec_9e41_0242ac1c0002row4_col13\" class=\"data row4 col13\" >nan</td>\n",
              "                        <td id=\"T_356cec52_7d6d_11ec_9e41_0242ac1c0002row4_col14\" class=\"data row4 col14\" >liblinear</td>\n",
              "                        <td id=\"T_356cec52_7d6d_11ec_9e41_0242ac1c0002row4_col15\" class=\"data row4 col15\" >{'C': 10, 'class_weight': None...</td>\n",
              "                        <td id=\"T_356cec52_7d6d_11ec_9e41_0242ac1c0002row4_col16\" class=\"data row4 col16\" >AdvProjectsinML</td>\n",
              "                        <td id=\"T_356cec52_7d6d_11ec_9e41_0242ac1c0002row4_col17\" class=\"data row4 col17\" >3</td>\n",
              "            </tr>\n",
              "            <tr>\n",
              "                        <th id=\"T_356cec52_7d6d_11ec_9e41_0242ac1c0002level0_row5\" class=\"row_heading level0 row5\" >5</th>\n",
              "                        <td id=\"T_356cec52_7d6d_11ec_9e41_0242ac1c0002row5_col0\" class=\"data row5 col0\" >76.34%</td>\n",
              "                        <td id=\"T_356cec52_7d6d_11ec_9e41_0242ac1c0002row5_col1\" class=\"data row5 col1\" >72.49%</td>\n",
              "                        <td id=\"T_356cec52_7d6d_11ec_9e41_0242ac1c0002row5_col2\" class=\"data row5 col2\" >75.90%</td>\n",
              "                        <td id=\"T_356cec52_7d6d_11ec_9e41_0242ac1c0002row5_col3\" class=\"data row5 col3\" >71.44%</td>\n",
              "                        <td id=\"T_356cec52_7d6d_11ec_9e41_0242ac1c0002row5_col4\" class=\"data row5 col4\" >sklearn</td>\n",
              "                        <td id=\"T_356cec52_7d6d_11ec_9e41_0242ac1c0002row5_col5\" class=\"data row5 col5\" >False</td>\n",
              "                        <td id=\"T_356cec52_7d6d_11ec_9e41_0242ac1c0002row5_col6\" class=\"data row5 col6\" >LogisticRegression</td>\n",
              "                        <td id=\"T_356cec52_7d6d_11ec_9e41_0242ac1c0002row5_col7\" class=\"data row5 col7\" >nan</td>\n",
              "                        <td id=\"T_356cec52_7d6d_11ec_9e41_0242ac1c0002row5_col8\" class=\"data row5 col8\" >10.000000</td>\n",
              "                        <td id=\"T_356cec52_7d6d_11ec_9e41_0242ac1c0002row5_col9\" class=\"data row5 col9\" >nan</td>\n",
              "                        <td id=\"T_356cec52_7d6d_11ec_9e41_0242ac1c0002row5_col10\" class=\"data row5 col10\" >nan</td>\n",
              "                        <td id=\"T_356cec52_7d6d_11ec_9e41_0242ac1c0002row5_col11\" class=\"data row5 col11\" >nan</td>\n",
              "                        <td id=\"T_356cec52_7d6d_11ec_9e41_0242ac1c0002row5_col12\" class=\"data row5 col12\" >nan</td>\n",
              "                        <td id=\"T_356cec52_7d6d_11ec_9e41_0242ac1c0002row5_col13\" class=\"data row5 col13\" >nan</td>\n",
              "                        <td id=\"T_356cec52_7d6d_11ec_9e41_0242ac1c0002row5_col14\" class=\"data row5 col14\" >lbfgs</td>\n",
              "                        <td id=\"T_356cec52_7d6d_11ec_9e41_0242ac1c0002row5_col15\" class=\"data row5 col15\" >{'C': 0.01, 'class_weight': No...</td>\n",
              "                        <td id=\"T_356cec52_7d6d_11ec_9e41_0242ac1c0002row5_col16\" class=\"data row5 col16\" >AdvProjectsinML</td>\n",
              "                        <td id=\"T_356cec52_7d6d_11ec_9e41_0242ac1c0002row5_col17\" class=\"data row5 col17\" >2</td>\n",
              "            </tr>\n",
              "            <tr>\n",
              "                        <th id=\"T_356cec52_7d6d_11ec_9e41_0242ac1c0002level0_row6\" class=\"row_heading level0 row6\" >6</th>\n",
              "                        <td id=\"T_356cec52_7d6d_11ec_9e41_0242ac1c0002row6_col0\" class=\"data row6 col0\" >76.34%</td>\n",
              "                        <td id=\"T_356cec52_7d6d_11ec_9e41_0242ac1c0002row6_col1\" class=\"data row6 col1\" >72.49%</td>\n",
              "                        <td id=\"T_356cec52_7d6d_11ec_9e41_0242ac1c0002row6_col2\" class=\"data row6 col2\" >75.90%</td>\n",
              "                        <td id=\"T_356cec52_7d6d_11ec_9e41_0242ac1c0002row6_col3\" class=\"data row6 col3\" >71.44%</td>\n",
              "                        <td id=\"T_356cec52_7d6d_11ec_9e41_0242ac1c0002row6_col4\" class=\"data row6 col4\" >sklearn</td>\n",
              "                        <td id=\"T_356cec52_7d6d_11ec_9e41_0242ac1c0002row6_col5\" class=\"data row6 col5\" >False</td>\n",
              "                        <td id=\"T_356cec52_7d6d_11ec_9e41_0242ac1c0002row6_col6\" class=\"data row6 col6\" >LogisticRegression</td>\n",
              "                        <td id=\"T_356cec52_7d6d_11ec_9e41_0242ac1c0002row6_col7\" class=\"data row6 col7\" >nan</td>\n",
              "                        <td id=\"T_356cec52_7d6d_11ec_9e41_0242ac1c0002row6_col8\" class=\"data row6 col8\" >10.000000</td>\n",
              "                        <td id=\"T_356cec52_7d6d_11ec_9e41_0242ac1c0002row6_col9\" class=\"data row6 col9\" >nan</td>\n",
              "                        <td id=\"T_356cec52_7d6d_11ec_9e41_0242ac1c0002row6_col10\" class=\"data row6 col10\" >nan</td>\n",
              "                        <td id=\"T_356cec52_7d6d_11ec_9e41_0242ac1c0002row6_col11\" class=\"data row6 col11\" >nan</td>\n",
              "                        <td id=\"T_356cec52_7d6d_11ec_9e41_0242ac1c0002row6_col12\" class=\"data row6 col12\" >nan</td>\n",
              "                        <td id=\"T_356cec52_7d6d_11ec_9e41_0242ac1c0002row6_col13\" class=\"data row6 col13\" >nan</td>\n",
              "                        <td id=\"T_356cec52_7d6d_11ec_9e41_0242ac1c0002row6_col14\" class=\"data row6 col14\" >lbfgs</td>\n",
              "                        <td id=\"T_356cec52_7d6d_11ec_9e41_0242ac1c0002row6_col15\" class=\"data row6 col15\" >{'C': 0.01, 'class_weight': No...</td>\n",
              "                        <td id=\"T_356cec52_7d6d_11ec_9e41_0242ac1c0002row6_col16\" class=\"data row6 col16\" >AdvProjectsinML</td>\n",
              "                        <td id=\"T_356cec52_7d6d_11ec_9e41_0242ac1c0002row6_col17\" class=\"data row6 col17\" >4</td>\n",
              "            </tr>\n",
              "            <tr>\n",
              "                        <th id=\"T_356cec52_7d6d_11ec_9e41_0242ac1c0002level0_row7\" class=\"row_heading level0 row7\" >7</th>\n",
              "                        <td id=\"T_356cec52_7d6d_11ec_9e41_0242ac1c0002row7_col0\" class=\"data row7 col0\" >66.79%</td>\n",
              "                        <td id=\"T_356cec52_7d6d_11ec_9e41_0242ac1c0002row7_col1\" class=\"data row7 col1\" >48.19%</td>\n",
              "                        <td id=\"T_356cec52_7d6d_11ec_9e41_0242ac1c0002row7_col2\" class=\"data row7 col2\" >82.81%</td>\n",
              "                        <td id=\"T_356cec52_7d6d_11ec_9e41_0242ac1c0002row7_col3\" class=\"data row7 col3\" >54.69%</td>\n",
              "                        <td id=\"T_356cec52_7d6d_11ec_9e41_0242ac1c0002row7_col4\" class=\"data row7 col4\" >keras</td>\n",
              "                        <td id=\"T_356cec52_7d6d_11ec_9e41_0242ac1c0002row7_col5\" class=\"data row7 col5\" >True</td>\n",
              "                        <td id=\"T_356cec52_7d6d_11ec_9e41_0242ac1c0002row7_col6\" class=\"data row7 col6\" >Sequential</td>\n",
              "                        <td id=\"T_356cec52_7d6d_11ec_9e41_0242ac1c0002row7_col7\" class=\"data row7 col7\" >4.000000</td>\n",
              "                        <td id=\"T_356cec52_7d6d_11ec_9e41_0242ac1c0002row7_col8\" class=\"data row7 col8\" >9154.000000</td>\n",
              "                        <td id=\"T_356cec52_7d6d_11ec_9e41_0242ac1c0002row7_col9\" class=\"data row7 col9\" >4.000000</td>\n",
              "                        <td id=\"T_356cec52_7d6d_11ec_9e41_0242ac1c0002row7_col10\" class=\"data row7 col10\" >nan</td>\n",
              "                        <td id=\"T_356cec52_7d6d_11ec_9e41_0242ac1c0002row7_col11\" class=\"data row7 col11\" >1.000000</td>\n",
              "                        <td id=\"T_356cec52_7d6d_11ec_9e41_0242ac1c0002row7_col12\" class=\"data row7 col12\" >3.000000</td>\n",
              "                        <td id=\"T_356cec52_7d6d_11ec_9e41_0242ac1c0002row7_col13\" class=\"data row7 col13\" >str</td>\n",
              "                        <td id=\"T_356cec52_7d6d_11ec_9e41_0242ac1c0002row7_col14\" class=\"data row7 col14\" >SGD</td>\n",
              "                        <td id=\"T_356cec52_7d6d_11ec_9e41_0242ac1c0002row7_col15\" class=\"data row7 col15\" >{'name': 'sequential', 'layers...</td>\n",
              "                        <td id=\"T_356cec52_7d6d_11ec_9e41_0242ac1c0002row7_col16\" class=\"data row7 col16\" >AdvProjectsinML</td>\n",
              "                        <td id=\"T_356cec52_7d6d_11ec_9e41_0242ac1c0002row7_col17\" class=\"data row7 col17\" >7</td>\n",
              "            </tr>\n",
              "            <tr>\n",
              "                        <th id=\"T_356cec52_7d6d_11ec_9e41_0242ac1c0002level0_row8\" class=\"row_heading level0 row8\" >8</th>\n",
              "                        <td id=\"T_356cec52_7d6d_11ec_9e41_0242ac1c0002row8_col0\" class=\"data row8 col0\" >65.27%</td>\n",
              "                        <td id=\"T_356cec52_7d6d_11ec_9e41_0242ac1c0002row8_col1\" class=\"data row8 col1\" >45.81%</td>\n",
              "                        <td id=\"T_356cec52_7d6d_11ec_9e41_0242ac1c0002row8_col2\" class=\"data row8 col2\" >71.30%</td>\n",
              "                        <td id=\"T_356cec52_7d6d_11ec_9e41_0242ac1c0002row8_col3\" class=\"data row8 col3\" >53.04%</td>\n",
              "                        <td id=\"T_356cec52_7d6d_11ec_9e41_0242ac1c0002row8_col4\" class=\"data row8 col4\" >keras</td>\n",
              "                        <td id=\"T_356cec52_7d6d_11ec_9e41_0242ac1c0002row8_col5\" class=\"data row8 col5\" >True</td>\n",
              "                        <td id=\"T_356cec52_7d6d_11ec_9e41_0242ac1c0002row8_col6\" class=\"data row8 col6\" >Sequential</td>\n",
              "                        <td id=\"T_356cec52_7d6d_11ec_9e41_0242ac1c0002row8_col7\" class=\"data row8 col7\" >7.000000</td>\n",
              "                        <td id=\"T_356cec52_7d6d_11ec_9e41_0242ac1c0002row8_col8\" class=\"data row8 col8\" >18114.000000</td>\n",
              "                        <td id=\"T_356cec52_7d6d_11ec_9e41_0242ac1c0002row8_col9\" class=\"data row8 col9\" >5.000000</td>\n",
              "                        <td id=\"T_356cec52_7d6d_11ec_9e41_0242ac1c0002row8_col10\" class=\"data row8 col10\" >2.000000</td>\n",
              "                        <td id=\"T_356cec52_7d6d_11ec_9e41_0242ac1c0002row8_col11\" class=\"data row8 col11\" >1.000000</td>\n",
              "                        <td id=\"T_356cec52_7d6d_11ec_9e41_0242ac1c0002row8_col12\" class=\"data row8 col12\" >4.000000</td>\n",
              "                        <td id=\"T_356cec52_7d6d_11ec_9e41_0242ac1c0002row8_col13\" class=\"data row8 col13\" >str</td>\n",
              "                        <td id=\"T_356cec52_7d6d_11ec_9e41_0242ac1c0002row8_col14\" class=\"data row8 col14\" >SGD</td>\n",
              "                        <td id=\"T_356cec52_7d6d_11ec_9e41_0242ac1c0002row8_col15\" class=\"data row8 col15\" >{'name': 'sequential_1', 'laye...</td>\n",
              "                        <td id=\"T_356cec52_7d6d_11ec_9e41_0242ac1c0002row8_col16\" class=\"data row8 col16\" >AdvProjectsinML</td>\n",
              "                        <td id=\"T_356cec52_7d6d_11ec_9e41_0242ac1c0002row8_col17\" class=\"data row8 col17\" >8</td>\n",
              "            </tr>\n",
              "            <tr>\n",
              "                        <th id=\"T_356cec52_7d6d_11ec_9e41_0242ac1c0002level0_row9\" class=\"row_heading level0 row9\" >9</th>\n",
              "                        <td id=\"T_356cec52_7d6d_11ec_9e41_0242ac1c0002row9_col0\" class=\"data row9 col0\" >55.34%</td>\n",
              "                        <td id=\"T_356cec52_7d6d_11ec_9e41_0242ac1c0002row9_col1\" class=\"data row9 col1\" >51.58%</td>\n",
              "                        <td id=\"T_356cec52_7d6d_11ec_9e41_0242ac1c0002row9_col2\" class=\"data row9 col2\" >51.60%</td>\n",
              "                        <td id=\"T_356cec52_7d6d_11ec_9e41_0242ac1c0002row9_col3\" class=\"data row9 col3\" >51.58%</td>\n",
              "                        <td id=\"T_356cec52_7d6d_11ec_9e41_0242ac1c0002row9_col4\" class=\"data row9 col4\" >sklearn</td>\n",
              "                        <td id=\"T_356cec52_7d6d_11ec_9e41_0242ac1c0002row9_col5\" class=\"data row9 col5\" >False</td>\n",
              "                        <td id=\"T_356cec52_7d6d_11ec_9e41_0242ac1c0002row9_col6\" class=\"data row9 col6\" >LogisticRegression</td>\n",
              "                        <td id=\"T_356cec52_7d6d_11ec_9e41_0242ac1c0002row9_col7\" class=\"data row9 col7\" >nan</td>\n",
              "                        <td id=\"T_356cec52_7d6d_11ec_9e41_0242ac1c0002row9_col8\" class=\"data row9 col8\" >10.000000</td>\n",
              "                        <td id=\"T_356cec52_7d6d_11ec_9e41_0242ac1c0002row9_col9\" class=\"data row9 col9\" >nan</td>\n",
              "                        <td id=\"T_356cec52_7d6d_11ec_9e41_0242ac1c0002row9_col10\" class=\"data row9 col10\" >nan</td>\n",
              "                        <td id=\"T_356cec52_7d6d_11ec_9e41_0242ac1c0002row9_col11\" class=\"data row9 col11\" >nan</td>\n",
              "                        <td id=\"T_356cec52_7d6d_11ec_9e41_0242ac1c0002row9_col12\" class=\"data row9 col12\" >nan</td>\n",
              "                        <td id=\"T_356cec52_7d6d_11ec_9e41_0242ac1c0002row9_col13\" class=\"data row9 col13\" >nan</td>\n",
              "                        <td id=\"T_356cec52_7d6d_11ec_9e41_0242ac1c0002row9_col14\" class=\"data row9 col14\" >liblinear</td>\n",
              "                        <td id=\"T_356cec52_7d6d_11ec_9e41_0242ac1c0002row9_col15\" class=\"data row9 col15\" >{'C': 10, 'class_weight': None...</td>\n",
              "                        <td id=\"T_356cec52_7d6d_11ec_9e41_0242ac1c0002row9_col16\" class=\"data row9 col16\" >mikedparrott</td>\n",
              "                        <td id=\"T_356cec52_7d6d_11ec_9e41_0242ac1c0002row9_col17\" class=\"data row9 col17\" >10</td>\n",
              "            </tr>\n",
              "            <tr>\n",
              "                        <th id=\"T_356cec52_7d6d_11ec_9e41_0242ac1c0002level0_row10\" class=\"row_heading level0 row10\" >10</th>\n",
              "                        <td id=\"T_356cec52_7d6d_11ec_9e41_0242ac1c0002row10_col0\" class=\"data row10 col0\" >55.34%</td>\n",
              "                        <td id=\"T_356cec52_7d6d_11ec_9e41_0242ac1c0002row10_col1\" class=\"data row10 col1\" >51.58%</td>\n",
              "                        <td id=\"T_356cec52_7d6d_11ec_9e41_0242ac1c0002row10_col2\" class=\"data row10 col2\" >51.60%</td>\n",
              "                        <td id=\"T_356cec52_7d6d_11ec_9e41_0242ac1c0002row10_col3\" class=\"data row10 col3\" >51.58%</td>\n",
              "                        <td id=\"T_356cec52_7d6d_11ec_9e41_0242ac1c0002row10_col4\" class=\"data row10 col4\" >sklearn</td>\n",
              "                        <td id=\"T_356cec52_7d6d_11ec_9e41_0242ac1c0002row10_col5\" class=\"data row10 col5\" >False</td>\n",
              "                        <td id=\"T_356cec52_7d6d_11ec_9e41_0242ac1c0002row10_col6\" class=\"data row10 col6\" >LogisticRegression</td>\n",
              "                        <td id=\"T_356cec52_7d6d_11ec_9e41_0242ac1c0002row10_col7\" class=\"data row10 col7\" >nan</td>\n",
              "                        <td id=\"T_356cec52_7d6d_11ec_9e41_0242ac1c0002row10_col8\" class=\"data row10 col8\" >10.000000</td>\n",
              "                        <td id=\"T_356cec52_7d6d_11ec_9e41_0242ac1c0002row10_col9\" class=\"data row10 col9\" >nan</td>\n",
              "                        <td id=\"T_356cec52_7d6d_11ec_9e41_0242ac1c0002row10_col10\" class=\"data row10 col10\" >nan</td>\n",
              "                        <td id=\"T_356cec52_7d6d_11ec_9e41_0242ac1c0002row10_col11\" class=\"data row10 col11\" >nan</td>\n",
              "                        <td id=\"T_356cec52_7d6d_11ec_9e41_0242ac1c0002row10_col12\" class=\"data row10 col12\" >nan</td>\n",
              "                        <td id=\"T_356cec52_7d6d_11ec_9e41_0242ac1c0002row10_col13\" class=\"data row10 col13\" >nan</td>\n",
              "                        <td id=\"T_356cec52_7d6d_11ec_9e41_0242ac1c0002row10_col14\" class=\"data row10 col14\" >liblinear</td>\n",
              "                        <td id=\"T_356cec52_7d6d_11ec_9e41_0242ac1c0002row10_col15\" class=\"data row10 col15\" >{'C': 10, 'class_weight': None...</td>\n",
              "                        <td id=\"T_356cec52_7d6d_11ec_9e41_0242ac1c0002row10_col16\" class=\"data row10 col16\" >newusertest</td>\n",
              "                        <td id=\"T_356cec52_7d6d_11ec_9e41_0242ac1c0002row10_col17\" class=\"data row10 col17\" >11</td>\n",
              "            </tr>\n",
              "            <tr>\n",
              "                        <th id=\"T_356cec52_7d6d_11ec_9e41_0242ac1c0002level0_row11\" class=\"row_heading level0 row11\" >11</th>\n",
              "                        <td id=\"T_356cec52_7d6d_11ec_9e41_0242ac1c0002row11_col0\" class=\"data row11 col0\" >49.24%</td>\n",
              "                        <td id=\"T_356cec52_7d6d_11ec_9e41_0242ac1c0002row11_col1\" class=\"data row11 col1\" >43.87%</td>\n",
              "                        <td id=\"T_356cec52_7d6d_11ec_9e41_0242ac1c0002row11_col2\" class=\"data row11 col2\" >43.78%</td>\n",
              "                        <td id=\"T_356cec52_7d6d_11ec_9e41_0242ac1c0002row11_col3\" class=\"data row11 col3\" >44.13%</td>\n",
              "                        <td id=\"T_356cec52_7d6d_11ec_9e41_0242ac1c0002row11_col4\" class=\"data row11 col4\" >sklearn</td>\n",
              "                        <td id=\"T_356cec52_7d6d_11ec_9e41_0242ac1c0002row11_col5\" class=\"data row11 col5\" >False</td>\n",
              "                        <td id=\"T_356cec52_7d6d_11ec_9e41_0242ac1c0002row11_col6\" class=\"data row11 col6\" >LogisticRegression</td>\n",
              "                        <td id=\"T_356cec52_7d6d_11ec_9e41_0242ac1c0002row11_col7\" class=\"data row11 col7\" >nan</td>\n",
              "                        <td id=\"T_356cec52_7d6d_11ec_9e41_0242ac1c0002row11_col8\" class=\"data row11 col8\" >10.000000</td>\n",
              "                        <td id=\"T_356cec52_7d6d_11ec_9e41_0242ac1c0002row11_col9\" class=\"data row11 col9\" >nan</td>\n",
              "                        <td id=\"T_356cec52_7d6d_11ec_9e41_0242ac1c0002row11_col10\" class=\"data row11 col10\" >nan</td>\n",
              "                        <td id=\"T_356cec52_7d6d_11ec_9e41_0242ac1c0002row11_col11\" class=\"data row11 col11\" >nan</td>\n",
              "                        <td id=\"T_356cec52_7d6d_11ec_9e41_0242ac1c0002row11_col12\" class=\"data row11 col12\" >nan</td>\n",
              "                        <td id=\"T_356cec52_7d6d_11ec_9e41_0242ac1c0002row11_col13\" class=\"data row11 col13\" >nan</td>\n",
              "                        <td id=\"T_356cec52_7d6d_11ec_9e41_0242ac1c0002row11_col14\" class=\"data row11 col14\" >lbfgs</td>\n",
              "                        <td id=\"T_356cec52_7d6d_11ec_9e41_0242ac1c0002row11_col15\" class=\"data row11 col15\" >{'C': 10, 'class_weight': None...</td>\n",
              "                        <td id=\"T_356cec52_7d6d_11ec_9e41_0242ac1c0002row11_col16\" class=\"data row11 col16\" >marco_morales</td>\n",
              "                        <td id=\"T_356cec52_7d6d_11ec_9e41_0242ac1c0002row11_col17\" class=\"data row11 col17\" >12</td>\n",
              "            </tr>\n",
              "            <tr>\n",
              "                        <th id=\"T_356cec52_7d6d_11ec_9e41_0242ac1c0002level0_row12\" class=\"row_heading level0 row12\" >12</th>\n",
              "                        <td id=\"T_356cec52_7d6d_11ec_9e41_0242ac1c0002row12_col0\" class=\"data row12 col0\" >49.24%</td>\n",
              "                        <td id=\"T_356cec52_7d6d_11ec_9e41_0242ac1c0002row12_col1\" class=\"data row12 col1\" >43.87%</td>\n",
              "                        <td id=\"T_356cec52_7d6d_11ec_9e41_0242ac1c0002row12_col2\" class=\"data row12 col2\" >43.78%</td>\n",
              "                        <td id=\"T_356cec52_7d6d_11ec_9e41_0242ac1c0002row12_col3\" class=\"data row12 col3\" >44.13%</td>\n",
              "                        <td id=\"T_356cec52_7d6d_11ec_9e41_0242ac1c0002row12_col4\" class=\"data row12 col4\" >sklearn</td>\n",
              "                        <td id=\"T_356cec52_7d6d_11ec_9e41_0242ac1c0002row12_col5\" class=\"data row12 col5\" >False</td>\n",
              "                        <td id=\"T_356cec52_7d6d_11ec_9e41_0242ac1c0002row12_col6\" class=\"data row12 col6\" >LogisticRegression</td>\n",
              "                        <td id=\"T_356cec52_7d6d_11ec_9e41_0242ac1c0002row12_col7\" class=\"data row12 col7\" >nan</td>\n",
              "                        <td id=\"T_356cec52_7d6d_11ec_9e41_0242ac1c0002row12_col8\" class=\"data row12 col8\" >10.000000</td>\n",
              "                        <td id=\"T_356cec52_7d6d_11ec_9e41_0242ac1c0002row12_col9\" class=\"data row12 col9\" >nan</td>\n",
              "                        <td id=\"T_356cec52_7d6d_11ec_9e41_0242ac1c0002row12_col10\" class=\"data row12 col10\" >nan</td>\n",
              "                        <td id=\"T_356cec52_7d6d_11ec_9e41_0242ac1c0002row12_col11\" class=\"data row12 col11\" >nan</td>\n",
              "                        <td id=\"T_356cec52_7d6d_11ec_9e41_0242ac1c0002row12_col12\" class=\"data row12 col12\" >nan</td>\n",
              "                        <td id=\"T_356cec52_7d6d_11ec_9e41_0242ac1c0002row12_col13\" class=\"data row12 col13\" >nan</td>\n",
              "                        <td id=\"T_356cec52_7d6d_11ec_9e41_0242ac1c0002row12_col14\" class=\"data row12 col14\" >lbfgs</td>\n",
              "                        <td id=\"T_356cec52_7d6d_11ec_9e41_0242ac1c0002row12_col15\" class=\"data row12 col15\" >{'C': 10, 'class_weight': None...</td>\n",
              "                        <td id=\"T_356cec52_7d6d_11ec_9e41_0242ac1c0002row12_col16\" class=\"data row12 col16\" >AdvProjectsinML</td>\n",
              "                        <td id=\"T_356cec52_7d6d_11ec_9e41_0242ac1c0002row12_col17\" class=\"data row12 col17\" >13</td>\n",
              "            </tr>\n",
              "    </tbody></table>"
            ],
            "text/plain": [
              "<pandas.io.formats.style.Styler at 0x7fd297457210>"
            ]
          },
          "metadata": {},
          "execution_count": 45
        }
      ]
    },
    {
      "cell_type": "markdown",
      "source": [
        "#### Step (9) compare models for learning\n"
      ],
      "metadata": {
        "id": "_bVVsnUNCjGA"
      }
    },
    {
      "cell_type": "code",
      "source": [
        "# Compare two or more models\n",
        "data = mycompetition.compare_models([1,2], verbose=1)\n",
        "mycompetition.stylize_compare(data)"
      ],
      "metadata": {
        "colab": {
          "base_uri": "https://localhost:8080/",
          "height": 428
        },
        "id": "AgE4FvZKCbC3",
        "outputId": "e1d596d6-243f-4599-fe59-21c6b6247dc5"
      },
      "execution_count": 46,
      "outputs": [
        {
          "output_type": "display_data",
          "data": {
            "text/html": [
              "<style  type=\"text/css\" >\n",
              "    #T_3c6c9c1e_7d6d_11ec_9e41_0242ac1c0002 caption {\n",
              "          color: black;\n",
              "          font-size: 18px;\n",
              "    }#T_3c6c9c1e_7d6d_11ec_9e41_0242ac1c0002row0_col2,#T_3c6c9c1e_7d6d_11ec_9e41_0242ac1c0002row0_col3,#T_3c6c9c1e_7d6d_11ec_9e41_0242ac1c0002row9_col2,#T_3c6c9c1e_7d6d_11ec_9e41_0242ac1c0002row11_col2{\n",
              "            background:  tomato;\n",
              "        }</style><table id=\"T_3c6c9c1e_7d6d_11ec_9e41_0242ac1c0002\" ><caption>Model type: LogisticRegression</caption><thead>    <tr>        <th class=\"blank level0\" ></th>        <th class=\"col_heading level0 col0\" >param_name</th>        <th class=\"col_heading level0 col1\" >default_value</th>        <th class=\"col_heading level0 col2\" >model_version_1</th>        <th class=\"col_heading level0 col3\" >model_version_2</th>    </tr></thead><tbody>\n",
              "                <tr>\n",
              "                        <th id=\"T_3c6c9c1e_7d6d_11ec_9e41_0242ac1c0002level0_row0\" class=\"row_heading level0 row0\" >0</th>\n",
              "                        <td id=\"T_3c6c9c1e_7d6d_11ec_9e41_0242ac1c0002row0_col0\" class=\"data row0 col0\" >C</td>\n",
              "                        <td id=\"T_3c6c9c1e_7d6d_11ec_9e41_0242ac1c0002row0_col1\" class=\"data row0 col1\" >1.000000</td>\n",
              "                        <td id=\"T_3c6c9c1e_7d6d_11ec_9e41_0242ac1c0002row0_col2\" class=\"data row0 col2\" >10</td>\n",
              "                        <td id=\"T_3c6c9c1e_7d6d_11ec_9e41_0242ac1c0002row0_col3\" class=\"data row0 col3\" >0.010000</td>\n",
              "            </tr>\n",
              "            <tr>\n",
              "                        <th id=\"T_3c6c9c1e_7d6d_11ec_9e41_0242ac1c0002level0_row1\" class=\"row_heading level0 row1\" >1</th>\n",
              "                        <td id=\"T_3c6c9c1e_7d6d_11ec_9e41_0242ac1c0002row1_col0\" class=\"data row1 col0\" >class_weight</td>\n",
              "                        <td id=\"T_3c6c9c1e_7d6d_11ec_9e41_0242ac1c0002row1_col1\" class=\"data row1 col1\" >None</td>\n",
              "                        <td id=\"T_3c6c9c1e_7d6d_11ec_9e41_0242ac1c0002row1_col2\" class=\"data row1 col2\" >None</td>\n",
              "                        <td id=\"T_3c6c9c1e_7d6d_11ec_9e41_0242ac1c0002row1_col3\" class=\"data row1 col3\" >None</td>\n",
              "            </tr>\n",
              "            <tr>\n",
              "                        <th id=\"T_3c6c9c1e_7d6d_11ec_9e41_0242ac1c0002level0_row2\" class=\"row_heading level0 row2\" >2</th>\n",
              "                        <td id=\"T_3c6c9c1e_7d6d_11ec_9e41_0242ac1c0002row2_col0\" class=\"data row2 col0\" >dual</td>\n",
              "                        <td id=\"T_3c6c9c1e_7d6d_11ec_9e41_0242ac1c0002row2_col1\" class=\"data row2 col1\" >False</td>\n",
              "                        <td id=\"T_3c6c9c1e_7d6d_11ec_9e41_0242ac1c0002row2_col2\" class=\"data row2 col2\" >False</td>\n",
              "                        <td id=\"T_3c6c9c1e_7d6d_11ec_9e41_0242ac1c0002row2_col3\" class=\"data row2 col3\" >False</td>\n",
              "            </tr>\n",
              "            <tr>\n",
              "                        <th id=\"T_3c6c9c1e_7d6d_11ec_9e41_0242ac1c0002level0_row3\" class=\"row_heading level0 row3\" >3</th>\n",
              "                        <td id=\"T_3c6c9c1e_7d6d_11ec_9e41_0242ac1c0002row3_col0\" class=\"data row3 col0\" >fit_intercept</td>\n",
              "                        <td id=\"T_3c6c9c1e_7d6d_11ec_9e41_0242ac1c0002row3_col1\" class=\"data row3 col1\" >True</td>\n",
              "                        <td id=\"T_3c6c9c1e_7d6d_11ec_9e41_0242ac1c0002row3_col2\" class=\"data row3 col2\" >True</td>\n",
              "                        <td id=\"T_3c6c9c1e_7d6d_11ec_9e41_0242ac1c0002row3_col3\" class=\"data row3 col3\" >True</td>\n",
              "            </tr>\n",
              "            <tr>\n",
              "                        <th id=\"T_3c6c9c1e_7d6d_11ec_9e41_0242ac1c0002level0_row4\" class=\"row_heading level0 row4\" >4</th>\n",
              "                        <td id=\"T_3c6c9c1e_7d6d_11ec_9e41_0242ac1c0002row4_col0\" class=\"data row4 col0\" >intercept_scaling</td>\n",
              "                        <td id=\"T_3c6c9c1e_7d6d_11ec_9e41_0242ac1c0002row4_col1\" class=\"data row4 col1\" >1</td>\n",
              "                        <td id=\"T_3c6c9c1e_7d6d_11ec_9e41_0242ac1c0002row4_col2\" class=\"data row4 col2\" >1</td>\n",
              "                        <td id=\"T_3c6c9c1e_7d6d_11ec_9e41_0242ac1c0002row4_col3\" class=\"data row4 col3\" >1</td>\n",
              "            </tr>\n",
              "            <tr>\n",
              "                        <th id=\"T_3c6c9c1e_7d6d_11ec_9e41_0242ac1c0002level0_row5\" class=\"row_heading level0 row5\" >5</th>\n",
              "                        <td id=\"T_3c6c9c1e_7d6d_11ec_9e41_0242ac1c0002row5_col0\" class=\"data row5 col0\" >l1_ratio</td>\n",
              "                        <td id=\"T_3c6c9c1e_7d6d_11ec_9e41_0242ac1c0002row5_col1\" class=\"data row5 col1\" >None</td>\n",
              "                        <td id=\"T_3c6c9c1e_7d6d_11ec_9e41_0242ac1c0002row5_col2\" class=\"data row5 col2\" >None</td>\n",
              "                        <td id=\"T_3c6c9c1e_7d6d_11ec_9e41_0242ac1c0002row5_col3\" class=\"data row5 col3\" >None</td>\n",
              "            </tr>\n",
              "            <tr>\n",
              "                        <th id=\"T_3c6c9c1e_7d6d_11ec_9e41_0242ac1c0002level0_row6\" class=\"row_heading level0 row6\" >6</th>\n",
              "                        <td id=\"T_3c6c9c1e_7d6d_11ec_9e41_0242ac1c0002row6_col0\" class=\"data row6 col0\" >max_iter</td>\n",
              "                        <td id=\"T_3c6c9c1e_7d6d_11ec_9e41_0242ac1c0002row6_col1\" class=\"data row6 col1\" >100</td>\n",
              "                        <td id=\"T_3c6c9c1e_7d6d_11ec_9e41_0242ac1c0002row6_col2\" class=\"data row6 col2\" >100</td>\n",
              "                        <td id=\"T_3c6c9c1e_7d6d_11ec_9e41_0242ac1c0002row6_col3\" class=\"data row6 col3\" >100</td>\n",
              "            </tr>\n",
              "            <tr>\n",
              "                        <th id=\"T_3c6c9c1e_7d6d_11ec_9e41_0242ac1c0002level0_row7\" class=\"row_heading level0 row7\" >7</th>\n",
              "                        <td id=\"T_3c6c9c1e_7d6d_11ec_9e41_0242ac1c0002row7_col0\" class=\"data row7 col0\" >multi_class</td>\n",
              "                        <td id=\"T_3c6c9c1e_7d6d_11ec_9e41_0242ac1c0002row7_col1\" class=\"data row7 col1\" >auto</td>\n",
              "                        <td id=\"T_3c6c9c1e_7d6d_11ec_9e41_0242ac1c0002row7_col2\" class=\"data row7 col2\" >auto</td>\n",
              "                        <td id=\"T_3c6c9c1e_7d6d_11ec_9e41_0242ac1c0002row7_col3\" class=\"data row7 col3\" >auto</td>\n",
              "            </tr>\n",
              "            <tr>\n",
              "                        <th id=\"T_3c6c9c1e_7d6d_11ec_9e41_0242ac1c0002level0_row8\" class=\"row_heading level0 row8\" >8</th>\n",
              "                        <td id=\"T_3c6c9c1e_7d6d_11ec_9e41_0242ac1c0002row8_col0\" class=\"data row8 col0\" >n_jobs</td>\n",
              "                        <td id=\"T_3c6c9c1e_7d6d_11ec_9e41_0242ac1c0002row8_col1\" class=\"data row8 col1\" >None</td>\n",
              "                        <td id=\"T_3c6c9c1e_7d6d_11ec_9e41_0242ac1c0002row8_col2\" class=\"data row8 col2\" >None</td>\n",
              "                        <td id=\"T_3c6c9c1e_7d6d_11ec_9e41_0242ac1c0002row8_col3\" class=\"data row8 col3\" >None</td>\n",
              "            </tr>\n",
              "            <tr>\n",
              "                        <th id=\"T_3c6c9c1e_7d6d_11ec_9e41_0242ac1c0002level0_row9\" class=\"row_heading level0 row9\" >9</th>\n",
              "                        <td id=\"T_3c6c9c1e_7d6d_11ec_9e41_0242ac1c0002row9_col0\" class=\"data row9 col0\" >penalty</td>\n",
              "                        <td id=\"T_3c6c9c1e_7d6d_11ec_9e41_0242ac1c0002row9_col1\" class=\"data row9 col1\" >l2</td>\n",
              "                        <td id=\"T_3c6c9c1e_7d6d_11ec_9e41_0242ac1c0002row9_col2\" class=\"data row9 col2\" >l1</td>\n",
              "                        <td id=\"T_3c6c9c1e_7d6d_11ec_9e41_0242ac1c0002row9_col3\" class=\"data row9 col3\" >l2</td>\n",
              "            </tr>\n",
              "            <tr>\n",
              "                        <th id=\"T_3c6c9c1e_7d6d_11ec_9e41_0242ac1c0002level0_row10\" class=\"row_heading level0 row10\" >10</th>\n",
              "                        <td id=\"T_3c6c9c1e_7d6d_11ec_9e41_0242ac1c0002row10_col0\" class=\"data row10 col0\" >random_state</td>\n",
              "                        <td id=\"T_3c6c9c1e_7d6d_11ec_9e41_0242ac1c0002row10_col1\" class=\"data row10 col1\" >None</td>\n",
              "                        <td id=\"T_3c6c9c1e_7d6d_11ec_9e41_0242ac1c0002row10_col2\" class=\"data row10 col2\" >None</td>\n",
              "                        <td id=\"T_3c6c9c1e_7d6d_11ec_9e41_0242ac1c0002row10_col3\" class=\"data row10 col3\" >None</td>\n",
              "            </tr>\n",
              "            <tr>\n",
              "                        <th id=\"T_3c6c9c1e_7d6d_11ec_9e41_0242ac1c0002level0_row11\" class=\"row_heading level0 row11\" >11</th>\n",
              "                        <td id=\"T_3c6c9c1e_7d6d_11ec_9e41_0242ac1c0002row11_col0\" class=\"data row11 col0\" >solver</td>\n",
              "                        <td id=\"T_3c6c9c1e_7d6d_11ec_9e41_0242ac1c0002row11_col1\" class=\"data row11 col1\" >lbfgs</td>\n",
              "                        <td id=\"T_3c6c9c1e_7d6d_11ec_9e41_0242ac1c0002row11_col2\" class=\"data row11 col2\" >liblinear</td>\n",
              "                        <td id=\"T_3c6c9c1e_7d6d_11ec_9e41_0242ac1c0002row11_col3\" class=\"data row11 col3\" >lbfgs</td>\n",
              "            </tr>\n",
              "            <tr>\n",
              "                        <th id=\"T_3c6c9c1e_7d6d_11ec_9e41_0242ac1c0002level0_row12\" class=\"row_heading level0 row12\" >12</th>\n",
              "                        <td id=\"T_3c6c9c1e_7d6d_11ec_9e41_0242ac1c0002row12_col0\" class=\"data row12 col0\" >tol</td>\n",
              "                        <td id=\"T_3c6c9c1e_7d6d_11ec_9e41_0242ac1c0002row12_col1\" class=\"data row12 col1\" >0.000100</td>\n",
              "                        <td id=\"T_3c6c9c1e_7d6d_11ec_9e41_0242ac1c0002row12_col2\" class=\"data row12 col2\" >0.000100</td>\n",
              "                        <td id=\"T_3c6c9c1e_7d6d_11ec_9e41_0242ac1c0002row12_col3\" class=\"data row12 col3\" >0.000100</td>\n",
              "            </tr>\n",
              "            <tr>\n",
              "                        <th id=\"T_3c6c9c1e_7d6d_11ec_9e41_0242ac1c0002level0_row13\" class=\"row_heading level0 row13\" >13</th>\n",
              "                        <td id=\"T_3c6c9c1e_7d6d_11ec_9e41_0242ac1c0002row13_col0\" class=\"data row13 col0\" >verbose</td>\n",
              "                        <td id=\"T_3c6c9c1e_7d6d_11ec_9e41_0242ac1c0002row13_col1\" class=\"data row13 col1\" >0</td>\n",
              "                        <td id=\"T_3c6c9c1e_7d6d_11ec_9e41_0242ac1c0002row13_col2\" class=\"data row13 col2\" >0</td>\n",
              "                        <td id=\"T_3c6c9c1e_7d6d_11ec_9e41_0242ac1c0002row13_col3\" class=\"data row13 col3\" >0</td>\n",
              "            </tr>\n",
              "            <tr>\n",
              "                        <th id=\"T_3c6c9c1e_7d6d_11ec_9e41_0242ac1c0002level0_row14\" class=\"row_heading level0 row14\" >14</th>\n",
              "                        <td id=\"T_3c6c9c1e_7d6d_11ec_9e41_0242ac1c0002row14_col0\" class=\"data row14 col0\" >warm_start</td>\n",
              "                        <td id=\"T_3c6c9c1e_7d6d_11ec_9e41_0242ac1c0002row14_col1\" class=\"data row14 col1\" >False</td>\n",
              "                        <td id=\"T_3c6c9c1e_7d6d_11ec_9e41_0242ac1c0002row14_col2\" class=\"data row14 col2\" >False</td>\n",
              "                        <td id=\"T_3c6c9c1e_7d6d_11ec_9e41_0242ac1c0002row14_col3\" class=\"data row14 col3\" >False</td>\n",
              "            </tr>\n",
              "    </tbody></table>"
            ],
            "text/plain": [
              "<IPython.core.display.HTML object>"
            ]
          },
          "metadata": {}
        },
        {
          "output_type": "stream",
          "name": "stdout",
          "text": [
            "\n",
            "\n",
            "\n"
          ]
        }
      ]
    }
  ],
  "metadata": {
    "colab": {
      "collapsed_sections": [],
      "name": "Week02-tabular-data-code-starter.ipynb",
      "provenance": []
    },
    "kernelspec": {
      "display_name": "Python 3",
      "name": "python3"
    }
  },
  "nbformat": 4,
  "nbformat_minor": 0
}